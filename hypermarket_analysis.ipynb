{
 "cells": [
  {
   "cell_type": "markdown",
   "metadata": {},
   "source": [
    "# Import Packages and Library"
   ]
  },
  {
   "cell_type": "code",
   "execution_count": 250,
   "metadata": {},
   "outputs": [],
   "source": [
    "import pandas as pd\n",
    "import numpy as np\n",
    "import seaborn as sns\n",
    "import matplotlib.pyplot as plt"
   ]
  },
  {
   "cell_type": "markdown",
   "metadata": {},
   "source": [
    "# Import Data"
   ]
  },
  {
   "cell_type": "code",
   "execution_count": 199,
   "metadata": {},
   "outputs": [],
   "source": [
    "df_store = pd.read_csv(\"D:/hypermarket_analysis/raw_data/stores.csv\")"
   ]
  },
  {
   "cell_type": "code",
   "execution_count": 200,
   "metadata": {},
   "outputs": [],
   "source": [
    "df_train = pd.read_csv(\"D:/hypermarket_analysis/raw_data/train.csv\")"
   ]
  },
  {
   "cell_type": "code",
   "execution_count": 201,
   "metadata": {},
   "outputs": [],
   "source": [
    "df_feature =pd.read_csv(\"D:/hypermarket_analysis/raw_data/features.csv\")"
   ]
  },
  {
   "cell_type": "markdown",
   "metadata": {},
   "source": [
    "# Working on Data"
   ]
  },
  {
   "cell_type": "markdown",
   "metadata": {},
   "source": [
    "### First Look to Data and Reviwing the first 5 line by *head()*"
   ]
  },
  {
   "cell_type": "code",
   "execution_count": 6,
   "metadata": {},
   "outputs": [
    {
     "data": {
      "text/html": [
       "<div>\n",
       "<style scoped>\n",
       "    .dataframe tbody tr th:only-of-type {\n",
       "        vertical-align: middle;\n",
       "    }\n",
       "\n",
       "    .dataframe tbody tr th {\n",
       "        vertical-align: top;\n",
       "    }\n",
       "\n",
       "    .dataframe thead th {\n",
       "        text-align: right;\n",
       "    }\n",
       "</style>\n",
       "<table border=\"1\" class=\"dataframe\">\n",
       "  <thead>\n",
       "    <tr style=\"text-align: right;\">\n",
       "      <th></th>\n",
       "      <th>Store</th>\n",
       "      <th>Type</th>\n",
       "      <th>Size</th>\n",
       "    </tr>\n",
       "  </thead>\n",
       "  <tbody>\n",
       "    <tr>\n",
       "      <th>0</th>\n",
       "      <td>1</td>\n",
       "      <td>A</td>\n",
       "      <td>151315</td>\n",
       "    </tr>\n",
       "    <tr>\n",
       "      <th>1</th>\n",
       "      <td>2</td>\n",
       "      <td>A</td>\n",
       "      <td>202307</td>\n",
       "    </tr>\n",
       "    <tr>\n",
       "      <th>2</th>\n",
       "      <td>3</td>\n",
       "      <td>B</td>\n",
       "      <td>37392</td>\n",
       "    </tr>\n",
       "    <tr>\n",
       "      <th>3</th>\n",
       "      <td>4</td>\n",
       "      <td>A</td>\n",
       "      <td>205863</td>\n",
       "    </tr>\n",
       "    <tr>\n",
       "      <th>4</th>\n",
       "      <td>5</td>\n",
       "      <td>B</td>\n",
       "      <td>34875</td>\n",
       "    </tr>\n",
       "  </tbody>\n",
       "</table>\n",
       "</div>"
      ],
      "text/plain": [
       "   Store Type    Size\n",
       "0      1    A  151315\n",
       "1      2    A  202307\n",
       "2      3    B   37392\n",
       "3      4    A  205863\n",
       "4      5    B   34875"
      ]
     },
     "execution_count": 6,
     "metadata": {},
     "output_type": "execute_result"
    }
   ],
   "source": [
    "df_store.head()"
   ]
  },
  {
   "cell_type": "code",
   "execution_count": 8,
   "metadata": {},
   "outputs": [
    {
     "data": {
      "text/html": [
       "<div>\n",
       "<style scoped>\n",
       "    .dataframe tbody tr th:only-of-type {\n",
       "        vertical-align: middle;\n",
       "    }\n",
       "\n",
       "    .dataframe tbody tr th {\n",
       "        vertical-align: top;\n",
       "    }\n",
       "\n",
       "    .dataframe thead th {\n",
       "        text-align: right;\n",
       "    }\n",
       "</style>\n",
       "<table border=\"1\" class=\"dataframe\">\n",
       "  <thead>\n",
       "    <tr style=\"text-align: right;\">\n",
       "      <th></th>\n",
       "      <th>Store</th>\n",
       "      <th>Dept</th>\n",
       "      <th>Date</th>\n",
       "      <th>Weekly_Sales</th>\n",
       "      <th>IsHoliday</th>\n",
       "    </tr>\n",
       "  </thead>\n",
       "  <tbody>\n",
       "    <tr>\n",
       "      <th>0</th>\n",
       "      <td>1</td>\n",
       "      <td>1</td>\n",
       "      <td>2010-02-05</td>\n",
       "      <td>24924.50</td>\n",
       "      <td>False</td>\n",
       "    </tr>\n",
       "    <tr>\n",
       "      <th>1</th>\n",
       "      <td>1</td>\n",
       "      <td>1</td>\n",
       "      <td>2010-02-12</td>\n",
       "      <td>46039.49</td>\n",
       "      <td>True</td>\n",
       "    </tr>\n",
       "    <tr>\n",
       "      <th>2</th>\n",
       "      <td>1</td>\n",
       "      <td>1</td>\n",
       "      <td>2010-02-19</td>\n",
       "      <td>41595.55</td>\n",
       "      <td>False</td>\n",
       "    </tr>\n",
       "    <tr>\n",
       "      <th>3</th>\n",
       "      <td>1</td>\n",
       "      <td>1</td>\n",
       "      <td>2010-02-26</td>\n",
       "      <td>19403.54</td>\n",
       "      <td>False</td>\n",
       "    </tr>\n",
       "    <tr>\n",
       "      <th>4</th>\n",
       "      <td>1</td>\n",
       "      <td>1</td>\n",
       "      <td>2010-03-05</td>\n",
       "      <td>21827.90</td>\n",
       "      <td>False</td>\n",
       "    </tr>\n",
       "  </tbody>\n",
       "</table>\n",
       "</div>"
      ],
      "text/plain": [
       "   Store  Dept        Date  Weekly_Sales  IsHoliday\n",
       "0      1     1  2010-02-05      24924.50      False\n",
       "1      1     1  2010-02-12      46039.49       True\n",
       "2      1     1  2010-02-19      41595.55      False\n",
       "3      1     1  2010-02-26      19403.54      False\n",
       "4      1     1  2010-03-05      21827.90      False"
      ]
     },
     "execution_count": 8,
     "metadata": {},
     "output_type": "execute_result"
    }
   ],
   "source": [
    "df_train.head()"
   ]
  },
  {
   "cell_type": "code",
   "execution_count": 7,
   "metadata": {},
   "outputs": [
    {
     "data": {
      "text/html": [
       "<div>\n",
       "<style scoped>\n",
       "    .dataframe tbody tr th:only-of-type {\n",
       "        vertical-align: middle;\n",
       "    }\n",
       "\n",
       "    .dataframe tbody tr th {\n",
       "        vertical-align: top;\n",
       "    }\n",
       "\n",
       "    .dataframe thead th {\n",
       "        text-align: right;\n",
       "    }\n",
       "</style>\n",
       "<table border=\"1\" class=\"dataframe\">\n",
       "  <thead>\n",
       "    <tr style=\"text-align: right;\">\n",
       "      <th></th>\n",
       "      <th>Store</th>\n",
       "      <th>Date</th>\n",
       "      <th>Temperature</th>\n",
       "      <th>Fuel_Price</th>\n",
       "      <th>MarkDown1</th>\n",
       "      <th>MarkDown2</th>\n",
       "      <th>MarkDown3</th>\n",
       "      <th>MarkDown4</th>\n",
       "      <th>MarkDown5</th>\n",
       "      <th>CPI</th>\n",
       "      <th>Unemployment</th>\n",
       "      <th>IsHoliday</th>\n",
       "    </tr>\n",
       "  </thead>\n",
       "  <tbody>\n",
       "    <tr>\n",
       "      <th>0</th>\n",
       "      <td>1</td>\n",
       "      <td>2010-02-05</td>\n",
       "      <td>42.31</td>\n",
       "      <td>2.572</td>\n",
       "      <td>NaN</td>\n",
       "      <td>NaN</td>\n",
       "      <td>NaN</td>\n",
       "      <td>NaN</td>\n",
       "      <td>NaN</td>\n",
       "      <td>211.096358</td>\n",
       "      <td>8.106</td>\n",
       "      <td>False</td>\n",
       "    </tr>\n",
       "    <tr>\n",
       "      <th>1</th>\n",
       "      <td>1</td>\n",
       "      <td>2010-02-12</td>\n",
       "      <td>38.51</td>\n",
       "      <td>2.548</td>\n",
       "      <td>NaN</td>\n",
       "      <td>NaN</td>\n",
       "      <td>NaN</td>\n",
       "      <td>NaN</td>\n",
       "      <td>NaN</td>\n",
       "      <td>211.242170</td>\n",
       "      <td>8.106</td>\n",
       "      <td>True</td>\n",
       "    </tr>\n",
       "    <tr>\n",
       "      <th>2</th>\n",
       "      <td>1</td>\n",
       "      <td>2010-02-19</td>\n",
       "      <td>39.93</td>\n",
       "      <td>2.514</td>\n",
       "      <td>NaN</td>\n",
       "      <td>NaN</td>\n",
       "      <td>NaN</td>\n",
       "      <td>NaN</td>\n",
       "      <td>NaN</td>\n",
       "      <td>211.289143</td>\n",
       "      <td>8.106</td>\n",
       "      <td>False</td>\n",
       "    </tr>\n",
       "    <tr>\n",
       "      <th>3</th>\n",
       "      <td>1</td>\n",
       "      <td>2010-02-26</td>\n",
       "      <td>46.63</td>\n",
       "      <td>2.561</td>\n",
       "      <td>NaN</td>\n",
       "      <td>NaN</td>\n",
       "      <td>NaN</td>\n",
       "      <td>NaN</td>\n",
       "      <td>NaN</td>\n",
       "      <td>211.319643</td>\n",
       "      <td>8.106</td>\n",
       "      <td>False</td>\n",
       "    </tr>\n",
       "    <tr>\n",
       "      <th>4</th>\n",
       "      <td>1</td>\n",
       "      <td>2010-03-05</td>\n",
       "      <td>46.50</td>\n",
       "      <td>2.625</td>\n",
       "      <td>NaN</td>\n",
       "      <td>NaN</td>\n",
       "      <td>NaN</td>\n",
       "      <td>NaN</td>\n",
       "      <td>NaN</td>\n",
       "      <td>211.350143</td>\n",
       "      <td>8.106</td>\n",
       "      <td>False</td>\n",
       "    </tr>\n",
       "  </tbody>\n",
       "</table>\n",
       "</div>"
      ],
      "text/plain": [
       "   Store        Date  Temperature  Fuel_Price  MarkDown1  MarkDown2  \\\n",
       "0      1  2010-02-05        42.31       2.572        NaN        NaN   \n",
       "1      1  2010-02-12        38.51       2.548        NaN        NaN   \n",
       "2      1  2010-02-19        39.93       2.514        NaN        NaN   \n",
       "3      1  2010-02-26        46.63       2.561        NaN        NaN   \n",
       "4      1  2010-03-05        46.50       2.625        NaN        NaN   \n",
       "\n",
       "   MarkDown3  MarkDown4  MarkDown5         CPI  Unemployment  IsHoliday  \n",
       "0        NaN        NaN        NaN  211.096358         8.106      False  \n",
       "1        NaN        NaN        NaN  211.242170         8.106       True  \n",
       "2        NaN        NaN        NaN  211.289143         8.106      False  \n",
       "3        NaN        NaN        NaN  211.319643         8.106      False  \n",
       "4        NaN        NaN        NaN  211.350143         8.106      False  "
      ]
     },
     "execution_count": 7,
     "metadata": {},
     "output_type": "execute_result"
    }
   ],
   "source": [
    "df_feature.head()"
   ]
  },
  {
   "cell_type": "markdown",
   "metadata": {},
   "source": [
    "### Merge Three Tables"
   ]
  },
  {
   "cell_type": "code",
   "execution_count": 198,
   "metadata": {},
   "outputs": [],
   "source": [
    "df_merge = df_train.merge(df_feature, how='inner', on=['Store', 'Date']).merge(df_store, how='inner', on=['Store'])"
   ]
  },
  {
   "cell_type": "code",
   "execution_count": 61,
   "metadata": {},
   "outputs": [
    {
     "data": {
      "text/html": [
       "<div>\n",
       "<style scoped>\n",
       "    .dataframe tbody tr th:only-of-type {\n",
       "        vertical-align: middle;\n",
       "    }\n",
       "\n",
       "    .dataframe tbody tr th {\n",
       "        vertical-align: top;\n",
       "    }\n",
       "\n",
       "    .dataframe thead th {\n",
       "        text-align: right;\n",
       "    }\n",
       "</style>\n",
       "<table border=\"1\" class=\"dataframe\">\n",
       "  <thead>\n",
       "    <tr style=\"text-align: right;\">\n",
       "      <th></th>\n",
       "      <th>Store</th>\n",
       "      <th>Dept</th>\n",
       "      <th>Date</th>\n",
       "      <th>Weekly_Sales</th>\n",
       "      <th>IsHoliday_x</th>\n",
       "      <th>Temperature</th>\n",
       "      <th>Fuel_Price</th>\n",
       "      <th>MarkDown1</th>\n",
       "      <th>MarkDown2</th>\n",
       "      <th>MarkDown3</th>\n",
       "      <th>MarkDown4</th>\n",
       "      <th>MarkDown5</th>\n",
       "      <th>CPI</th>\n",
       "      <th>Unemployment</th>\n",
       "      <th>IsHoliday_y</th>\n",
       "      <th>Type</th>\n",
       "      <th>Size</th>\n",
       "    </tr>\n",
       "  </thead>\n",
       "  <tbody>\n",
       "    <tr>\n",
       "      <th>0</th>\n",
       "      <td>1</td>\n",
       "      <td>1</td>\n",
       "      <td>2010-02-05</td>\n",
       "      <td>24924.50</td>\n",
       "      <td>False</td>\n",
       "      <td>42.31</td>\n",
       "      <td>2.572</td>\n",
       "      <td>NaN</td>\n",
       "      <td>NaN</td>\n",
       "      <td>NaN</td>\n",
       "      <td>NaN</td>\n",
       "      <td>NaN</td>\n",
       "      <td>211.096358</td>\n",
       "      <td>8.106</td>\n",
       "      <td>False</td>\n",
       "      <td>A</td>\n",
       "      <td>151315</td>\n",
       "    </tr>\n",
       "    <tr>\n",
       "      <th>1</th>\n",
       "      <td>1</td>\n",
       "      <td>2</td>\n",
       "      <td>2010-02-05</td>\n",
       "      <td>50605.27</td>\n",
       "      <td>False</td>\n",
       "      <td>42.31</td>\n",
       "      <td>2.572</td>\n",
       "      <td>NaN</td>\n",
       "      <td>NaN</td>\n",
       "      <td>NaN</td>\n",
       "      <td>NaN</td>\n",
       "      <td>NaN</td>\n",
       "      <td>211.096358</td>\n",
       "      <td>8.106</td>\n",
       "      <td>False</td>\n",
       "      <td>A</td>\n",
       "      <td>151315</td>\n",
       "    </tr>\n",
       "    <tr>\n",
       "      <th>2</th>\n",
       "      <td>1</td>\n",
       "      <td>3</td>\n",
       "      <td>2010-02-05</td>\n",
       "      <td>13740.12</td>\n",
       "      <td>False</td>\n",
       "      <td>42.31</td>\n",
       "      <td>2.572</td>\n",
       "      <td>NaN</td>\n",
       "      <td>NaN</td>\n",
       "      <td>NaN</td>\n",
       "      <td>NaN</td>\n",
       "      <td>NaN</td>\n",
       "      <td>211.096358</td>\n",
       "      <td>8.106</td>\n",
       "      <td>False</td>\n",
       "      <td>A</td>\n",
       "      <td>151315</td>\n",
       "    </tr>\n",
       "    <tr>\n",
       "      <th>3</th>\n",
       "      <td>1</td>\n",
       "      <td>4</td>\n",
       "      <td>2010-02-05</td>\n",
       "      <td>39954.04</td>\n",
       "      <td>False</td>\n",
       "      <td>42.31</td>\n",
       "      <td>2.572</td>\n",
       "      <td>NaN</td>\n",
       "      <td>NaN</td>\n",
       "      <td>NaN</td>\n",
       "      <td>NaN</td>\n",
       "      <td>NaN</td>\n",
       "      <td>211.096358</td>\n",
       "      <td>8.106</td>\n",
       "      <td>False</td>\n",
       "      <td>A</td>\n",
       "      <td>151315</td>\n",
       "    </tr>\n",
       "    <tr>\n",
       "      <th>4</th>\n",
       "      <td>1</td>\n",
       "      <td>5</td>\n",
       "      <td>2010-02-05</td>\n",
       "      <td>32229.38</td>\n",
       "      <td>False</td>\n",
       "      <td>42.31</td>\n",
       "      <td>2.572</td>\n",
       "      <td>NaN</td>\n",
       "      <td>NaN</td>\n",
       "      <td>NaN</td>\n",
       "      <td>NaN</td>\n",
       "      <td>NaN</td>\n",
       "      <td>211.096358</td>\n",
       "      <td>8.106</td>\n",
       "      <td>False</td>\n",
       "      <td>A</td>\n",
       "      <td>151315</td>\n",
       "    </tr>\n",
       "  </tbody>\n",
       "</table>\n",
       "</div>"
      ],
      "text/plain": [
       "   Store  Dept        Date  Weekly_Sales  IsHoliday_x  Temperature  \\\n",
       "0      1     1  2010-02-05      24924.50        False        42.31   \n",
       "1      1     2  2010-02-05      50605.27        False        42.31   \n",
       "2      1     3  2010-02-05      13740.12        False        42.31   \n",
       "3      1     4  2010-02-05      39954.04        False        42.31   \n",
       "4      1     5  2010-02-05      32229.38        False        42.31   \n",
       "\n",
       "   Fuel_Price  MarkDown1  MarkDown2  MarkDown3  MarkDown4  MarkDown5  \\\n",
       "0       2.572        NaN        NaN        NaN        NaN        NaN   \n",
       "1       2.572        NaN        NaN        NaN        NaN        NaN   \n",
       "2       2.572        NaN        NaN        NaN        NaN        NaN   \n",
       "3       2.572        NaN        NaN        NaN        NaN        NaN   \n",
       "4       2.572        NaN        NaN        NaN        NaN        NaN   \n",
       "\n",
       "          CPI  Unemployment  IsHoliday_y Type    Size  \n",
       "0  211.096358         8.106        False    A  151315  \n",
       "1  211.096358         8.106        False    A  151315  \n",
       "2  211.096358         8.106        False    A  151315  \n",
       "3  211.096358         8.106        False    A  151315  \n",
       "4  211.096358         8.106        False    A  151315  "
      ]
     },
     "execution_count": 61,
     "metadata": {},
     "output_type": "execute_result"
    }
   ],
   "source": [
    "df_merge.head()"
   ]
  },
  {
   "cell_type": "code",
   "execution_count": 15,
   "metadata": {},
   "outputs": [
    {
     "data": {
      "text/plain": [
       "(421570, 17)"
      ]
     },
     "execution_count": 15,
     "metadata": {},
     "output_type": "execute_result"
    }
   ],
   "source": [
    "df_merge.shape"
   ]
  },
  {
   "cell_type": "markdown",
   "metadata": {},
   "source": [
    "### How many **Stores** and **Department** exist?"
   ]
  },
  {
   "cell_type": "code",
   "execution_count": 17,
   "metadata": {},
   "outputs": [
    {
     "data": {
      "text/plain": [
       "45"
      ]
     },
     "execution_count": 17,
     "metadata": {},
     "output_type": "execute_result"
    }
   ],
   "source": [
    "df_merge['Store'].nunique()"
   ]
  },
  {
   "cell_type": "code",
   "execution_count": 19,
   "metadata": {},
   "outputs": [
    {
     "data": {
      "text/plain": [
       "array([ 1,  2,  3,  4,  5,  6,  7,  8,  9, 10, 11, 12, 13, 14, 15, 16, 17,\n",
       "       18, 19, 20, 21, 22, 23, 24, 25, 26, 27, 28, 29, 30, 31, 32, 33, 34,\n",
       "       35, 36, 37, 38, 39, 40, 41, 42, 43, 44, 45], dtype=int64)"
      ]
     },
     "execution_count": 19,
     "metadata": {},
     "output_type": "execute_result"
    }
   ],
   "source": [
    "df_merge['Store'].unique()"
   ]
  },
  {
   "cell_type": "code",
   "execution_count": 18,
   "metadata": {},
   "outputs": [
    {
     "data": {
      "text/plain": [
       "81"
      ]
     },
     "execution_count": 18,
     "metadata": {},
     "output_type": "execute_result"
    }
   ],
   "source": [
    "df_merge['Dept'].nunique()"
   ]
  },
  {
   "cell_type": "code",
   "execution_count": 26,
   "metadata": {},
   "outputs": [
    {
     "data": {
      "text/plain": [
       "array([ 1,  2,  3,  4,  5,  6,  7,  8,  9, 10, 11, 12, 13, 14, 16, 17, 18,\n",
       "       19, 20, 21, 22, 23, 24, 25, 26, 27, 28, 29, 30, 31, 32, 33, 34, 35,\n",
       "       36, 37, 38, 40, 41, 42, 44, 45, 46, 47, 48, 49, 51, 52, 54, 55, 56,\n",
       "       58, 59, 60, 67, 71, 72, 74, 79, 80, 81, 82, 83, 85, 87, 90, 91, 92,\n",
       "       93, 94, 95, 97, 98, 78, 96, 99, 77, 39, 50, 43, 65], dtype=int64)"
      ]
     },
     "execution_count": 26,
     "metadata": {},
     "output_type": "execute_result"
    }
   ],
   "source": [
    "df_merge['Dept'].unique()"
   ]
  },
  {
   "cell_type": "markdown",
   "metadata": {},
   "source": [
    "### Reviewing weekly sales of stores and departments"
   ]
  },
  {
   "cell_type": "code",
   "execution_count": 29,
   "metadata": {},
   "outputs": [
    {
     "data": {
      "text/html": [
       "<div>\n",
       "<style scoped>\n",
       "    .dataframe tbody tr th:only-of-type {\n",
       "        vertical-align: middle;\n",
       "    }\n",
       "\n",
       "    .dataframe tbody tr th {\n",
       "        vertical-align: top;\n",
       "    }\n",
       "\n",
       "    .dataframe thead th {\n",
       "        text-align: right;\n",
       "    }\n",
       "</style>\n",
       "<table border=\"1\" class=\"dataframe\">\n",
       "  <thead>\n",
       "    <tr style=\"text-align: right;\">\n",
       "      <th>Dept</th>\n",
       "      <th>1</th>\n",
       "      <th>2</th>\n",
       "      <th>3</th>\n",
       "      <th>4</th>\n",
       "      <th>5</th>\n",
       "      <th>6</th>\n",
       "      <th>7</th>\n",
       "      <th>8</th>\n",
       "      <th>9</th>\n",
       "      <th>10</th>\n",
       "      <th>...</th>\n",
       "      <th>90</th>\n",
       "      <th>91</th>\n",
       "      <th>92</th>\n",
       "      <th>93</th>\n",
       "      <th>94</th>\n",
       "      <th>95</th>\n",
       "      <th>96</th>\n",
       "      <th>97</th>\n",
       "      <th>98</th>\n",
       "      <th>99</th>\n",
       "    </tr>\n",
       "    <tr>\n",
       "      <th>Store</th>\n",
       "      <th></th>\n",
       "      <th></th>\n",
       "      <th></th>\n",
       "      <th></th>\n",
       "      <th></th>\n",
       "      <th></th>\n",
       "      <th></th>\n",
       "      <th></th>\n",
       "      <th></th>\n",
       "      <th></th>\n",
       "      <th></th>\n",
       "      <th></th>\n",
       "      <th></th>\n",
       "      <th></th>\n",
       "      <th></th>\n",
       "      <th></th>\n",
       "      <th></th>\n",
       "      <th></th>\n",
       "      <th></th>\n",
       "      <th></th>\n",
       "      <th></th>\n",
       "    </tr>\n",
       "  </thead>\n",
       "  <tbody>\n",
       "    <tr>\n",
       "      <th>1</th>\n",
       "      <td>22513.322937</td>\n",
       "      <td>46102.090420</td>\n",
       "      <td>13150.478042</td>\n",
       "      <td>36964.154476</td>\n",
       "      <td>24257.941119</td>\n",
       "      <td>4801.780140</td>\n",
       "      <td>24566.487413</td>\n",
       "      <td>35718.257622</td>\n",
       "      <td>28062.052238</td>\n",
       "      <td>31033.386364</td>\n",
       "      <td>...</td>\n",
       "      <td>82427.547832</td>\n",
       "      <td>64238.943427</td>\n",
       "      <td>135458.969510</td>\n",
       "      <td>71699.182378</td>\n",
       "      <td>63180.568182</td>\n",
       "      <td>120772.062168</td>\n",
       "      <td>33251.831639</td>\n",
       "      <td>35207.348811</td>\n",
       "      <td>11827.770769</td>\n",
       "      <td>306.091081</td>\n",
       "    </tr>\n",
       "    <tr>\n",
       "      <th>2</th>\n",
       "      <td>30777.980769</td>\n",
       "      <td>65912.922517</td>\n",
       "      <td>17476.563357</td>\n",
       "      <td>45607.666573</td>\n",
       "      <td>30555.315315</td>\n",
       "      <td>6808.382517</td>\n",
       "      <td>40477.837063</td>\n",
       "      <td>58707.369441</td>\n",
       "      <td>34375.864476</td>\n",
       "      <td>38845.854476</td>\n",
       "      <td>...</td>\n",
       "      <td>97611.537133</td>\n",
       "      <td>80610.380350</td>\n",
       "      <td>164840.230979</td>\n",
       "      <td>70581.977063</td>\n",
       "      <td>70018.672517</td>\n",
       "      <td>143588.751888</td>\n",
       "      <td>34319.063846</td>\n",
       "      <td>40697.204056</td>\n",
       "      <td>14035.400839</td>\n",
       "      <td>475.896905</td>\n",
       "    </tr>\n",
       "    <tr>\n",
       "      <th>3</th>\n",
       "      <td>7328.621049</td>\n",
       "      <td>16841.775664</td>\n",
       "      <td>5509.300769</td>\n",
       "      <td>8434.186503</td>\n",
       "      <td>11695.366573</td>\n",
       "      <td>2012.411818</td>\n",
       "      <td>10044.341608</td>\n",
       "      <td>8310.254196</td>\n",
       "      <td>9062.007692</td>\n",
       "      <td>10871.944126</td>\n",
       "      <td>...</td>\n",
       "      <td>1540.049161</td>\n",
       "      <td>318.685594</td>\n",
       "      <td>7568.280210</td>\n",
       "      <td>NaN</td>\n",
       "      <td>656.294444</td>\n",
       "      <td>15745.528252</td>\n",
       "      <td>3934.540000</td>\n",
       "      <td>343.437357</td>\n",
       "      <td>30.570833</td>\n",
       "      <td>NaN</td>\n",
       "    </tr>\n",
       "    <tr>\n",
       "      <th>4</th>\n",
       "      <td>36979.940070</td>\n",
       "      <td>93639.315385</td>\n",
       "      <td>19012.491678</td>\n",
       "      <td>56603.400140</td>\n",
       "      <td>45668.406783</td>\n",
       "      <td>8241.777692</td>\n",
       "      <td>50728.151399</td>\n",
       "      <td>62949.723776</td>\n",
       "      <td>34437.170979</td>\n",
       "      <td>37269.667413</td>\n",
       "      <td>...</td>\n",
       "      <td>89248.965524</td>\n",
       "      <td>66535.407203</td>\n",
       "      <td>159365.107902</td>\n",
       "      <td>67815.163007</td>\n",
       "      <td>68159.106573</td>\n",
       "      <td>147236.473706</td>\n",
       "      <td>38346.573077</td>\n",
       "      <td>39339.238951</td>\n",
       "      <td>15009.249371</td>\n",
       "      <td>623.182381</td>\n",
       "    </tr>\n",
       "    <tr>\n",
       "      <th>5</th>\n",
       "      <td>9774.553077</td>\n",
       "      <td>12317.953287</td>\n",
       "      <td>4101.085175</td>\n",
       "      <td>9860.806783</td>\n",
       "      <td>6699.202238</td>\n",
       "      <td>1191.057622</td>\n",
       "      <td>6124.484336</td>\n",
       "      <td>13735.709441</td>\n",
       "      <td>7919.805944</td>\n",
       "      <td>9783.395385</td>\n",
       "      <td>...</td>\n",
       "      <td>3059.520000</td>\n",
       "      <td>1457.221678</td>\n",
       "      <td>7759.205594</td>\n",
       "      <td>NaN</td>\n",
       "      <td>411.431486</td>\n",
       "      <td>19340.693986</td>\n",
       "      <td>5985.671119</td>\n",
       "      <td>667.070315</td>\n",
       "      <td>29.976087</td>\n",
       "      <td>NaN</td>\n",
       "    </tr>\n",
       "    <tr>\n",
       "      <th>6</th>\n",
       "      <td>23867.553776</td>\n",
       "      <td>50269.437273</td>\n",
       "      <td>16806.638811</td>\n",
       "      <td>34187.366503</td>\n",
       "      <td>34465.307622</td>\n",
       "      <td>7225.566643</td>\n",
       "      <td>34526.870420</td>\n",
       "      <td>47577.719790</td>\n",
       "      <td>48271.060140</td>\n",
       "      <td>47436.477902</td>\n",
       "      <td>...</td>\n",
       "      <td>53715.366084</td>\n",
       "      <td>45270.405175</td>\n",
       "      <td>99024.796503</td>\n",
       "      <td>41359.651189</td>\n",
       "      <td>41701.693497</td>\n",
       "      <td>89208.786294</td>\n",
       "      <td>30450.542238</td>\n",
       "      <td>20637.667063</td>\n",
       "      <td>9728.100629</td>\n",
       "      <td>388.636750</td>\n",
       "    </tr>\n",
       "    <tr>\n",
       "      <th>7</th>\n",
       "      <td>9542.801259</td>\n",
       "      <td>22603.690769</td>\n",
       "      <td>8633.536923</td>\n",
       "      <td>14950.518601</td>\n",
       "      <td>13860.350490</td>\n",
       "      <td>6329.928811</td>\n",
       "      <td>10925.757063</td>\n",
       "      <td>13970.619371</td>\n",
       "      <td>29722.736084</td>\n",
       "      <td>21136.560280</td>\n",
       "      <td>...</td>\n",
       "      <td>13858.405874</td>\n",
       "      <td>10263.880000</td>\n",
       "      <td>26530.890559</td>\n",
       "      <td>1328.178252</td>\n",
       "      <td>699.332522</td>\n",
       "      <td>34208.097273</td>\n",
       "      <td>1123.383217</td>\n",
       "      <td>4374.927902</td>\n",
       "      <td>260.886596</td>\n",
       "      <td>15.000000</td>\n",
       "    </tr>\n",
       "    <tr>\n",
       "      <th>8</th>\n",
       "      <td>14789.827343</td>\n",
       "      <td>35729.821748</td>\n",
       "      <td>10683.305105</td>\n",
       "      <td>21089.309301</td>\n",
       "      <td>19838.849231</td>\n",
       "      <td>3395.425455</td>\n",
       "      <td>20268.743776</td>\n",
       "      <td>26438.524336</td>\n",
       "      <td>11792.661678</td>\n",
       "      <td>20666.433776</td>\n",
       "      <td>...</td>\n",
       "      <td>39333.566154</td>\n",
       "      <td>31530.560909</td>\n",
       "      <td>60465.630000</td>\n",
       "      <td>27515.635315</td>\n",
       "      <td>25442.578042</td>\n",
       "      <td>62951.463706</td>\n",
       "      <td>16.986667</td>\n",
       "      <td>16978.366503</td>\n",
       "      <td>6880.466434</td>\n",
       "      <td>298.153714</td>\n",
       "    </tr>\n",
       "    <tr>\n",
       "      <th>9</th>\n",
       "      <td>11846.558252</td>\n",
       "      <td>24969.477413</td>\n",
       "      <td>7497.356783</td>\n",
       "      <td>17165.947762</td>\n",
       "      <td>19282.746014</td>\n",
       "      <td>2806.416364</td>\n",
       "      <td>13826.694336</td>\n",
       "      <td>21424.470699</td>\n",
       "      <td>13196.569720</td>\n",
       "      <td>12810.480350</td>\n",
       "      <td>...</td>\n",
       "      <td>2981.249510</td>\n",
       "      <td>869.273287</td>\n",
       "      <td>14123.063147</td>\n",
       "      <td>21.240000</td>\n",
       "      <td>599.112568</td>\n",
       "      <td>29575.050769</td>\n",
       "      <td>3596.107762</td>\n",
       "      <td>372.655556</td>\n",
       "      <td>27.930000</td>\n",
       "      <td>NaN</td>\n",
       "    </tr>\n",
       "    <tr>\n",
       "      <th>10</th>\n",
       "      <td>39925.138951</td>\n",
       "      <td>109795.291469</td>\n",
       "      <td>32086.181469</td>\n",
       "      <td>48579.826364</td>\n",
       "      <td>58373.460280</td>\n",
       "      <td>10556.550769</td>\n",
       "      <td>58964.715664</td>\n",
       "      <td>86739.846643</td>\n",
       "      <td>64436.722517</td>\n",
       "      <td>48108.063497</td>\n",
       "      <td>...</td>\n",
       "      <td>14291.869790</td>\n",
       "      <td>12703.554406</td>\n",
       "      <td>50450.731958</td>\n",
       "      <td>1420.418462</td>\n",
       "      <td>393.833168</td>\n",
       "      <td>73344.654685</td>\n",
       "      <td>11079.676643</td>\n",
       "      <td>5323.506503</td>\n",
       "      <td>198.179091</td>\n",
       "      <td>NaN</td>\n",
       "    </tr>\n",
       "    <tr>\n",
       "      <th>11</th>\n",
       "      <td>18860.911958</td>\n",
       "      <td>57114.326224</td>\n",
       "      <td>17628.778671</td>\n",
       "      <td>28837.744545</td>\n",
       "      <td>36663.363916</td>\n",
       "      <td>5925.281678</td>\n",
       "      <td>34844.108462</td>\n",
       "      <td>34415.449580</td>\n",
       "      <td>19056.162168</td>\n",
       "      <td>23449.992727</td>\n",
       "      <td>...</td>\n",
       "      <td>48995.984196</td>\n",
       "      <td>42030.370699</td>\n",
       "      <td>77392.741608</td>\n",
       "      <td>32623.853706</td>\n",
       "      <td>37474.038531</td>\n",
       "      <td>77487.279091</td>\n",
       "      <td>21685.298811</td>\n",
       "      <td>16596.197552</td>\n",
       "      <td>9570.351469</td>\n",
       "      <td>520.938125</td>\n",
       "    </tr>\n",
       "    <tr>\n",
       "      <th>12</th>\n",
       "      <td>17330.087622</td>\n",
       "      <td>74494.846224</td>\n",
       "      <td>17535.251678</td>\n",
       "      <td>26673.788182</td>\n",
       "      <td>27756.204615</td>\n",
       "      <td>6741.174895</td>\n",
       "      <td>34242.449161</td>\n",
       "      <td>42229.665035</td>\n",
       "      <td>19553.030490</td>\n",
       "      <td>17975.211119</td>\n",
       "      <td>...</td>\n",
       "      <td>11060.175455</td>\n",
       "      <td>6779.841469</td>\n",
       "      <td>24682.599161</td>\n",
       "      <td>562.897203</td>\n",
       "      <td>355.264000</td>\n",
       "      <td>43405.853357</td>\n",
       "      <td>6.441176</td>\n",
       "      <td>2394.894755</td>\n",
       "      <td>747.609860</td>\n",
       "      <td>29.880000</td>\n",
       "    </tr>\n",
       "    <tr>\n",
       "      <th>13</th>\n",
       "      <td>47020.455455</td>\n",
       "      <td>76339.960000</td>\n",
       "      <td>26116.623706</td>\n",
       "      <td>42563.275455</td>\n",
       "      <td>56786.934755</td>\n",
       "      <td>7886.826993</td>\n",
       "      <td>59896.738601</td>\n",
       "      <td>36238.867972</td>\n",
       "      <td>41236.445175</td>\n",
       "      <td>29431.879231</td>\n",
       "      <td>...</td>\n",
       "      <td>115592.108042</td>\n",
       "      <td>81272.990979</td>\n",
       "      <td>162034.099301</td>\n",
       "      <td>50024.937203</td>\n",
       "      <td>75522.874406</td>\n",
       "      <td>136844.834056</td>\n",
       "      <td>9165.079930</td>\n",
       "      <td>27556.759231</td>\n",
       "      <td>14980.825385</td>\n",
       "      <td>732.604651</td>\n",
       "    </tr>\n",
       "    <tr>\n",
       "      <th>14</th>\n",
       "      <td>30611.783357</td>\n",
       "      <td>77704.857972</td>\n",
       "      <td>19418.273986</td>\n",
       "      <td>52936.323287</td>\n",
       "      <td>33468.325035</td>\n",
       "      <td>7016.829790</td>\n",
       "      <td>53256.150280</td>\n",
       "      <td>53425.359860</td>\n",
       "      <td>22025.603497</td>\n",
       "      <td>20165.667133</td>\n",
       "      <td>...</td>\n",
       "      <td>107174.743986</td>\n",
       "      <td>91406.434615</td>\n",
       "      <td>182527.956014</td>\n",
       "      <td>62088.622937</td>\n",
       "      <td>64541.165664</td>\n",
       "      <td>144446.932517</td>\n",
       "      <td>5.193846</td>\n",
       "      <td>25684.497762</td>\n",
       "      <td>17768.013706</td>\n",
       "      <td>635.556047</td>\n",
       "    </tr>\n",
       "    <tr>\n",
       "      <th>15</th>\n",
       "      <td>13845.747832</td>\n",
       "      <td>26317.410769</td>\n",
       "      <td>10470.811958</td>\n",
       "      <td>13082.172448</td>\n",
       "      <td>16465.706993</td>\n",
       "      <td>4244.143776</td>\n",
       "      <td>22267.220070</td>\n",
       "      <td>20416.967273</td>\n",
       "      <td>15954.692937</td>\n",
       "      <td>11524.856294</td>\n",
       "      <td>...</td>\n",
       "      <td>5345.240420</td>\n",
       "      <td>3414.740909</td>\n",
       "      <td>18262.376853</td>\n",
       "      <td>422.878252</td>\n",
       "      <td>272.906250</td>\n",
       "      <td>27291.017133</td>\n",
       "      <td>2784.158881</td>\n",
       "      <td>2071.211888</td>\n",
       "      <td>273.504884</td>\n",
       "      <td>29.880000</td>\n",
       "    </tr>\n",
       "    <tr>\n",
       "      <th>16</th>\n",
       "      <td>11352.479371</td>\n",
       "      <td>23549.144965</td>\n",
       "      <td>7635.427273</td>\n",
       "      <td>14748.078112</td>\n",
       "      <td>13494.538671</td>\n",
       "      <td>5146.038951</td>\n",
       "      <td>11544.310140</td>\n",
       "      <td>14676.778322</td>\n",
       "      <td>28990.377343</td>\n",
       "      <td>12681.776643</td>\n",
       "      <td>...</td>\n",
       "      <td>6922.744685</td>\n",
       "      <td>3331.204965</td>\n",
       "      <td>20446.967832</td>\n",
       "      <td>997.032281</td>\n",
       "      <td>673.280928</td>\n",
       "      <td>27385.769231</td>\n",
       "      <td>126.934126</td>\n",
       "      <td>2116.696993</td>\n",
       "      <td>42.618571</td>\n",
       "      <td>59.760000</td>\n",
       "    </tr>\n",
       "    <tr>\n",
       "      <th>17</th>\n",
       "      <td>22801.609161</td>\n",
       "      <td>42231.844406</td>\n",
       "      <td>19278.955035</td>\n",
       "      <td>23961.357273</td>\n",
       "      <td>27082.325594</td>\n",
       "      <td>5944.435245</td>\n",
       "      <td>19474.770559</td>\n",
       "      <td>20110.270839</td>\n",
       "      <td>27293.658042</td>\n",
       "      <td>14165.000000</td>\n",
       "      <td>...</td>\n",
       "      <td>31293.306224</td>\n",
       "      <td>12033.678951</td>\n",
       "      <td>53043.348741</td>\n",
       "      <td>3646.955664</td>\n",
       "      <td>855.782273</td>\n",
       "      <td>50614.958462</td>\n",
       "      <td>819.416458</td>\n",
       "      <td>7798.283427</td>\n",
       "      <td>169.379120</td>\n",
       "      <td>2.290000</td>\n",
       "    </tr>\n",
       "    <tr>\n",
       "      <th>18</th>\n",
       "      <td>21988.356224</td>\n",
       "      <td>63665.139510</td>\n",
       "      <td>16392.980490</td>\n",
       "      <td>26775.207203</td>\n",
       "      <td>22933.954965</td>\n",
       "      <td>5664.913077</td>\n",
       "      <td>33152.347203</td>\n",
       "      <td>32036.582098</td>\n",
       "      <td>18589.371259</td>\n",
       "      <td>16754.599860</td>\n",
       "      <td>...</td>\n",
       "      <td>18481.394266</td>\n",
       "      <td>14124.482517</td>\n",
       "      <td>50079.623636</td>\n",
       "      <td>2113.300147</td>\n",
       "      <td>4880.242248</td>\n",
       "      <td>57668.251748</td>\n",
       "      <td>0.481333</td>\n",
       "      <td>5350.500432</td>\n",
       "      <td>881.150853</td>\n",
       "      <td>12.560000</td>\n",
       "    </tr>\n",
       "    <tr>\n",
       "      <th>19</th>\n",
       "      <td>21504.029161</td>\n",
       "      <td>50841.072937</td>\n",
       "      <td>18414.224476</td>\n",
       "      <td>31365.545315</td>\n",
       "      <td>28759.223846</td>\n",
       "      <td>5948.962867</td>\n",
       "      <td>33882.926853</td>\n",
       "      <td>42613.662937</td>\n",
       "      <td>30645.018112</td>\n",
       "      <td>27622.457762</td>\n",
       "      <td>...</td>\n",
       "      <td>67545.406434</td>\n",
       "      <td>54692.797413</td>\n",
       "      <td>113720.212937</td>\n",
       "      <td>37087.937063</td>\n",
       "      <td>37643.786434</td>\n",
       "      <td>97240.503566</td>\n",
       "      <td>15860.814825</td>\n",
       "      <td>20370.269720</td>\n",
       "      <td>12884.229091</td>\n",
       "      <td>440.374878</td>\n",
       "    </tr>\n",
       "    <tr>\n",
       "      <th>20</th>\n",
       "      <td>40545.473217</td>\n",
       "      <td>78251.249930</td>\n",
       "      <td>15490.971259</td>\n",
       "      <td>51456.376643</td>\n",
       "      <td>41647.786503</td>\n",
       "      <td>8210.745734</td>\n",
       "      <td>49394.699231</td>\n",
       "      <td>76445.061259</td>\n",
       "      <td>38243.623916</td>\n",
       "      <td>41826.467552</td>\n",
       "      <td>...</td>\n",
       "      <td>95858.587343</td>\n",
       "      <td>78493.190140</td>\n",
       "      <td>164633.741538</td>\n",
       "      <td>52818.583706</td>\n",
       "      <td>63148.334965</td>\n",
       "      <td>150613.955385</td>\n",
       "      <td>15.266875</td>\n",
       "      <td>25836.062238</td>\n",
       "      <td>19284.377343</td>\n",
       "      <td>796.153864</td>\n",
       "    </tr>\n",
       "    <tr>\n",
       "      <th>21</th>\n",
       "      <td>14950.049231</td>\n",
       "      <td>47780.599161</td>\n",
       "      <td>14607.126923</td>\n",
       "      <td>19354.728042</td>\n",
       "      <td>16090.874545</td>\n",
       "      <td>3988.656294</td>\n",
       "      <td>24456.825664</td>\n",
       "      <td>18238.059790</td>\n",
       "      <td>16387.963636</td>\n",
       "      <td>14695.978881</td>\n",
       "      <td>...</td>\n",
       "      <td>10983.598741</td>\n",
       "      <td>6735.454126</td>\n",
       "      <td>21915.114965</td>\n",
       "      <td>663.384126</td>\n",
       "      <td>537.663333</td>\n",
       "      <td>40379.295175</td>\n",
       "      <td>2.000000</td>\n",
       "      <td>3260.404685</td>\n",
       "      <td>111.680672</td>\n",
       "      <td>29.880000</td>\n",
       "    </tr>\n",
       "    <tr>\n",
       "      <th>22</th>\n",
       "      <td>21493.271119</td>\n",
       "      <td>53361.851888</td>\n",
       "      <td>13150.979510</td>\n",
       "      <td>32104.132378</td>\n",
       "      <td>23187.335105</td>\n",
       "      <td>5236.811329</td>\n",
       "      <td>29068.621608</td>\n",
       "      <td>37236.347692</td>\n",
       "      <td>23452.908881</td>\n",
       "      <td>19438.354266</td>\n",
       "      <td>...</td>\n",
       "      <td>21413.411608</td>\n",
       "      <td>21405.250629</td>\n",
       "      <td>51603.339091</td>\n",
       "      <td>2531.663986</td>\n",
       "      <td>857.190894</td>\n",
       "      <td>57868.571119</td>\n",
       "      <td>6.243000</td>\n",
       "      <td>4582.594755</td>\n",
       "      <td>177.560576</td>\n",
       "      <td>27.150000</td>\n",
       "    </tr>\n",
       "    <tr>\n",
       "      <th>23</th>\n",
       "      <td>33186.460559</td>\n",
       "      <td>70522.580140</td>\n",
       "      <td>19912.564755</td>\n",
       "      <td>27324.303077</td>\n",
       "      <td>36895.869021</td>\n",
       "      <td>7393.499650</td>\n",
       "      <td>43624.067413</td>\n",
       "      <td>36710.240909</td>\n",
       "      <td>50178.361748</td>\n",
       "      <td>31155.170559</td>\n",
       "      <td>...</td>\n",
       "      <td>20814.992168</td>\n",
       "      <td>19604.867692</td>\n",
       "      <td>59604.574615</td>\n",
       "      <td>2111.610780</td>\n",
       "      <td>374.898804</td>\n",
       "      <td>54199.088322</td>\n",
       "      <td>13168.146713</td>\n",
       "      <td>6149.684755</td>\n",
       "      <td>100.585083</td>\n",
       "      <td>29.880000</td>\n",
       "    </tr>\n",
       "    <tr>\n",
       "      <th>24</th>\n",
       "      <td>18859.023357</td>\n",
       "      <td>40797.169301</td>\n",
       "      <td>11825.589021</td>\n",
       "      <td>29245.357552</td>\n",
       "      <td>29178.058811</td>\n",
       "      <td>4911.185804</td>\n",
       "      <td>28788.329441</td>\n",
       "      <td>49171.841748</td>\n",
       "      <td>23246.748322</td>\n",
       "      <td>27175.089231</td>\n",
       "      <td>...</td>\n",
       "      <td>72650.442867</td>\n",
       "      <td>52435.498252</td>\n",
       "      <td>121882.073916</td>\n",
       "      <td>37876.836853</td>\n",
       "      <td>51850.045105</td>\n",
       "      <td>93927.992098</td>\n",
       "      <td>13623.074615</td>\n",
       "      <td>18597.824126</td>\n",
       "      <td>9878.970140</td>\n",
       "      <td>413.774211</td>\n",
       "    </tr>\n",
       "    <tr>\n",
       "      <th>25</th>\n",
       "      <td>20145.897483</td>\n",
       "      <td>36871.310559</td>\n",
       "      <td>11788.130979</td>\n",
       "      <td>20351.455455</td>\n",
       "      <td>12422.996434</td>\n",
       "      <td>3760.045035</td>\n",
       "      <td>17971.439580</td>\n",
       "      <td>29858.353636</td>\n",
       "      <td>14636.113636</td>\n",
       "      <td>20202.701469</td>\n",
       "      <td>...</td>\n",
       "      <td>11932.596503</td>\n",
       "      <td>7767.272098</td>\n",
       "      <td>38854.460699</td>\n",
       "      <td>777.747483</td>\n",
       "      <td>2607.109754</td>\n",
       "      <td>43991.147692</td>\n",
       "      <td>-1.270000</td>\n",
       "      <td>2706.628252</td>\n",
       "      <td>665.919779</td>\n",
       "      <td>NaN</td>\n",
       "    </tr>\n",
       "    <tr>\n",
       "      <th>26</th>\n",
       "      <td>19402.762937</td>\n",
       "      <td>27398.030979</td>\n",
       "      <td>7357.400769</td>\n",
       "      <td>24498.113846</td>\n",
       "      <td>17589.532587</td>\n",
       "      <td>4656.670490</td>\n",
       "      <td>16287.658531</td>\n",
       "      <td>28694.950909</td>\n",
       "      <td>16556.330769</td>\n",
       "      <td>10172.815734</td>\n",
       "      <td>...</td>\n",
       "      <td>57016.589231</td>\n",
       "      <td>39434.281259</td>\n",
       "      <td>84988.311818</td>\n",
       "      <td>25615.331469</td>\n",
       "      <td>42544.202028</td>\n",
       "      <td>70236.827622</td>\n",
       "      <td>18596.331888</td>\n",
       "      <td>14830.084825</td>\n",
       "      <td>8025.948601</td>\n",
       "      <td>221.950278</td>\n",
       "    </tr>\n",
       "    <tr>\n",
       "      <th>27</th>\n",
       "      <td>30437.976224</td>\n",
       "      <td>79001.049161</td>\n",
       "      <td>20226.734615</td>\n",
       "      <td>43596.933916</td>\n",
       "      <td>28059.038252</td>\n",
       "      <td>7730.729091</td>\n",
       "      <td>43272.914965</td>\n",
       "      <td>42181.469580</td>\n",
       "      <td>29315.697133</td>\n",
       "      <td>36757.327413</td>\n",
       "      <td>...</td>\n",
       "      <td>96374.536573</td>\n",
       "      <td>66687.096573</td>\n",
       "      <td>146518.141399</td>\n",
       "      <td>54910.693776</td>\n",
       "      <td>69638.930420</td>\n",
       "      <td>119519.410909</td>\n",
       "      <td>20806.990909</td>\n",
       "      <td>21268.805734</td>\n",
       "      <td>11524.137832</td>\n",
       "      <td>562.980000</td>\n",
       "    </tr>\n",
       "    <tr>\n",
       "      <th>28</th>\n",
       "      <td>20180.453986</td>\n",
       "      <td>57751.274336</td>\n",
       "      <td>12562.223287</td>\n",
       "      <td>27980.817203</td>\n",
       "      <td>28221.618392</td>\n",
       "      <td>5016.258671</td>\n",
       "      <td>29228.446923</td>\n",
       "      <td>33375.575524</td>\n",
       "      <td>17930.710070</td>\n",
       "      <td>21083.404825</td>\n",
       "      <td>...</td>\n",
       "      <td>65285.952098</td>\n",
       "      <td>57575.601119</td>\n",
       "      <td>98486.960350</td>\n",
       "      <td>47923.508671</td>\n",
       "      <td>36164.364615</td>\n",
       "      <td>96322.113846</td>\n",
       "      <td>26288.955734</td>\n",
       "      <td>23828.861329</td>\n",
       "      <td>10673.133077</td>\n",
       "      <td>316.605610</td>\n",
       "    </tr>\n",
       "    <tr>\n",
       "      <th>29</th>\n",
       "      <td>15504.699580</td>\n",
       "      <td>25181.662727</td>\n",
       "      <td>7995.955804</td>\n",
       "      <td>14326.216224</td>\n",
       "      <td>12931.821259</td>\n",
       "      <td>3289.884965</td>\n",
       "      <td>16854.082238</td>\n",
       "      <td>20680.465944</td>\n",
       "      <td>11370.866364</td>\n",
       "      <td>9400.183077</td>\n",
       "      <td>...</td>\n",
       "      <td>10950.327972</td>\n",
       "      <td>4691.213217</td>\n",
       "      <td>25166.714266</td>\n",
       "      <td>1190.882098</td>\n",
       "      <td>263.083012</td>\n",
       "      <td>30980.395594</td>\n",
       "      <td>11.800000</td>\n",
       "      <td>2131.676783</td>\n",
       "      <td>139.677971</td>\n",
       "      <td>29.880000</td>\n",
       "    </tr>\n",
       "    <tr>\n",
       "      <th>30</th>\n",
       "      <td>9788.376643</td>\n",
       "      <td>12974.464476</td>\n",
       "      <td>739.981888</td>\n",
       "      <td>13216.100909</td>\n",
       "      <td>405.565944</td>\n",
       "      <td>27.303937</td>\n",
       "      <td>379.771958</td>\n",
       "      <td>11733.993776</td>\n",
       "      <td>76.845352</td>\n",
       "      <td>196.116923</td>\n",
       "      <td>...</td>\n",
       "      <td>34622.986224</td>\n",
       "      <td>31576.583986</td>\n",
       "      <td>53256.041399</td>\n",
       "      <td>22409.698392</td>\n",
       "      <td>24522.622587</td>\n",
       "      <td>45456.508322</td>\n",
       "      <td>19163.112028</td>\n",
       "      <td>13172.531119</td>\n",
       "      <td>3207.034685</td>\n",
       "      <td>-0.641818</td>\n",
       "    </tr>\n",
       "    <tr>\n",
       "      <th>31</th>\n",
       "      <td>17356.652448</td>\n",
       "      <td>58512.131538</td>\n",
       "      <td>10616.675944</td>\n",
       "      <td>34848.899231</td>\n",
       "      <td>18715.630769</td>\n",
       "      <td>3489.809441</td>\n",
       "      <td>21012.438531</td>\n",
       "      <td>25277.976713</td>\n",
       "      <td>10815.516713</td>\n",
       "      <td>19911.584406</td>\n",
       "      <td>...</td>\n",
       "      <td>86167.265804</td>\n",
       "      <td>70232.133566</td>\n",
       "      <td>127010.118601</td>\n",
       "      <td>57876.205664</td>\n",
       "      <td>68732.141818</td>\n",
       "      <td>106696.019231</td>\n",
       "      <td>30335.294266</td>\n",
       "      <td>31144.978112</td>\n",
       "      <td>10101.886713</td>\n",
       "      <td>218.742203</td>\n",
       "    </tr>\n",
       "    <tr>\n",
       "      <th>32</th>\n",
       "      <td>22852.639510</td>\n",
       "      <td>50323.497343</td>\n",
       "      <td>15472.540140</td>\n",
       "      <td>28137.154965</td>\n",
       "      <td>20748.371888</td>\n",
       "      <td>4589.748392</td>\n",
       "      <td>25375.036993</td>\n",
       "      <td>24681.349580</td>\n",
       "      <td>20739.684685</td>\n",
       "      <td>22887.257483</td>\n",
       "      <td>...</td>\n",
       "      <td>61639.637133</td>\n",
       "      <td>48368.756154</td>\n",
       "      <td>100122.929021</td>\n",
       "      <td>30732.226923</td>\n",
       "      <td>48650.040979</td>\n",
       "      <td>84695.234196</td>\n",
       "      <td>2308.411818</td>\n",
       "      <td>17160.310000</td>\n",
       "      <td>7939.262378</td>\n",
       "      <td>379.147250</td>\n",
       "    </tr>\n",
       "    <tr>\n",
       "      <th>33</th>\n",
       "      <td>2379.086573</td>\n",
       "      <td>7471.425105</td>\n",
       "      <td>283.950140</td>\n",
       "      <td>6107.616014</td>\n",
       "      <td>112.728310</td>\n",
       "      <td>11.996538</td>\n",
       "      <td>392.912867</td>\n",
       "      <td>3679.792168</td>\n",
       "      <td>42.788348</td>\n",
       "      <td>80.301189</td>\n",
       "      <td>...</td>\n",
       "      <td>24899.923147</td>\n",
       "      <td>9862.862867</td>\n",
       "      <td>34227.662867</td>\n",
       "      <td>25648.054266</td>\n",
       "      <td>29002.624476</td>\n",
       "      <td>27022.949161</td>\n",
       "      <td>9371.822168</td>\n",
       "      <td>5375.769510</td>\n",
       "      <td>7340.692168</td>\n",
       "      <td>0.022000</td>\n",
       "    </tr>\n",
       "    <tr>\n",
       "      <th>34</th>\n",
       "      <td>19947.573077</td>\n",
       "      <td>34916.225874</td>\n",
       "      <td>8377.376434</td>\n",
       "      <td>19791.509021</td>\n",
       "      <td>21633.900559</td>\n",
       "      <td>3419.062028</td>\n",
       "      <td>18055.491608</td>\n",
       "      <td>27165.013147</td>\n",
       "      <td>17224.253497</td>\n",
       "      <td>16957.163566</td>\n",
       "      <td>...</td>\n",
       "      <td>44338.936783</td>\n",
       "      <td>34018.102238</td>\n",
       "      <td>67782.520909</td>\n",
       "      <td>29590.111329</td>\n",
       "      <td>37428.096923</td>\n",
       "      <td>69245.187972</td>\n",
       "      <td>19154.212308</td>\n",
       "      <td>17570.577483</td>\n",
       "      <td>7775.998182</td>\n",
       "      <td>347.144324</td>\n",
       "    </tr>\n",
       "    <tr>\n",
       "      <th>35</th>\n",
       "      <td>17082.647902</td>\n",
       "      <td>45578.456224</td>\n",
       "      <td>14308.382797</td>\n",
       "      <td>19495.631119</td>\n",
       "      <td>24858.433706</td>\n",
       "      <td>7256.417133</td>\n",
       "      <td>30267.589790</td>\n",
       "      <td>18416.401678</td>\n",
       "      <td>15657.032937</td>\n",
       "      <td>14818.443706</td>\n",
       "      <td>...</td>\n",
       "      <td>12960.450210</td>\n",
       "      <td>7919.080140</td>\n",
       "      <td>33776.032028</td>\n",
       "      <td>1528.451469</td>\n",
       "      <td>200.270435</td>\n",
       "      <td>43286.536993</td>\n",
       "      <td>10.788333</td>\n",
       "      <td>3738.292517</td>\n",
       "      <td>68.284831</td>\n",
       "      <td>NaN</td>\n",
       "    </tr>\n",
       "    <tr>\n",
       "      <th>36</th>\n",
       "      <td>2239.227413</td>\n",
       "      <td>13416.025664</td>\n",
       "      <td>381.324266</td>\n",
       "      <td>9873.505105</td>\n",
       "      <td>314.753982</td>\n",
       "      <td>26.291579</td>\n",
       "      <td>414.428322</td>\n",
       "      <td>3417.640420</td>\n",
       "      <td>102.211739</td>\n",
       "      <td>175.052308</td>\n",
       "      <td>...</td>\n",
       "      <td>35474.191958</td>\n",
       "      <td>11097.875874</td>\n",
       "      <td>44539.564476</td>\n",
       "      <td>26103.315664</td>\n",
       "      <td>47372.151119</td>\n",
       "      <td>39735.688741</td>\n",
       "      <td>15683.341818</td>\n",
       "      <td>6469.273636</td>\n",
       "      <td>9009.943776</td>\n",
       "      <td>0.020000</td>\n",
       "    </tr>\n",
       "    <tr>\n",
       "      <th>37</th>\n",
       "      <td>11024.235874</td>\n",
       "      <td>16511.446224</td>\n",
       "      <td>1297.862028</td>\n",
       "      <td>17614.013636</td>\n",
       "      <td>1137.631189</td>\n",
       "      <td>46.313630</td>\n",
       "      <td>824.978392</td>\n",
       "      <td>16151.397902</td>\n",
       "      <td>151.233803</td>\n",
       "      <td>387.644685</td>\n",
       "      <td>...</td>\n",
       "      <td>44144.428112</td>\n",
       "      <td>30870.677063</td>\n",
       "      <td>59440.577133</td>\n",
       "      <td>21599.851049</td>\n",
       "      <td>33656.648112</td>\n",
       "      <td>51410.551119</td>\n",
       "      <td>20375.380769</td>\n",
       "      <td>13960.701399</td>\n",
       "      <td>5286.761119</td>\n",
       "      <td>15.000000</td>\n",
       "    </tr>\n",
       "    <tr>\n",
       "      <th>38</th>\n",
       "      <td>6923.538531</td>\n",
       "      <td>10986.172657</td>\n",
       "      <td>498.700210</td>\n",
       "      <td>10669.501329</td>\n",
       "      <td>397.418322</td>\n",
       "      <td>37.014855</td>\n",
       "      <td>413.539021</td>\n",
       "      <td>9485.399441</td>\n",
       "      <td>77.520350</td>\n",
       "      <td>365.364895</td>\n",
       "      <td>...</td>\n",
       "      <td>34765.576783</td>\n",
       "      <td>25404.860420</td>\n",
       "      <td>45314.434825</td>\n",
       "      <td>18868.919091</td>\n",
       "      <td>21331.411259</td>\n",
       "      <td>41793.649021</td>\n",
       "      <td>11981.676643</td>\n",
       "      <td>9902.368182</td>\n",
       "      <td>4783.086713</td>\n",
       "      <td>25.000000</td>\n",
       "    </tr>\n",
       "    <tr>\n",
       "      <th>39</th>\n",
       "      <td>21925.021189</td>\n",
       "      <td>67338.429371</td>\n",
       "      <td>20569.701608</td>\n",
       "      <td>44807.515105</td>\n",
       "      <td>24043.436783</td>\n",
       "      <td>4911.540420</td>\n",
       "      <td>40020.492867</td>\n",
       "      <td>36130.641608</td>\n",
       "      <td>19396.117692</td>\n",
       "      <td>14919.373916</td>\n",
       "      <td>...</td>\n",
       "      <td>78649.534685</td>\n",
       "      <td>60386.286014</td>\n",
       "      <td>110126.209580</td>\n",
       "      <td>39684.510000</td>\n",
       "      <td>59830.190280</td>\n",
       "      <td>103036.757133</td>\n",
       "      <td>27089.158601</td>\n",
       "      <td>23993.406853</td>\n",
       "      <td>9767.295734</td>\n",
       "      <td>334.869756</td>\n",
       "    </tr>\n",
       "    <tr>\n",
       "      <th>40</th>\n",
       "      <td>18794.578811</td>\n",
       "      <td>26702.705175</td>\n",
       "      <td>6489.030350</td>\n",
       "      <td>24386.750559</td>\n",
       "      <td>17689.671678</td>\n",
       "      <td>4003.068601</td>\n",
       "      <td>18898.214336</td>\n",
       "      <td>33971.532238</td>\n",
       "      <td>19065.436294</td>\n",
       "      <td>19612.629301</td>\n",
       "      <td>...</td>\n",
       "      <td>61258.202867</td>\n",
       "      <td>43256.156853</td>\n",
       "      <td>96475.753287</td>\n",
       "      <td>27532.751189</td>\n",
       "      <td>38210.900699</td>\n",
       "      <td>66572.881259</td>\n",
       "      <td>15309.077972</td>\n",
       "      <td>17131.033497</td>\n",
       "      <td>8178.371049</td>\n",
       "      <td>167.374167</td>\n",
       "    </tr>\n",
       "    <tr>\n",
       "      <th>41</th>\n",
       "      <td>23205.259930</td>\n",
       "      <td>48349.828951</td>\n",
       "      <td>17021.833357</td>\n",
       "      <td>30538.574895</td>\n",
       "      <td>25513.943776</td>\n",
       "      <td>5267.832098</td>\n",
       "      <td>33711.105734</td>\n",
       "      <td>33729.081678</td>\n",
       "      <td>32743.470140</td>\n",
       "      <td>15194.223706</td>\n",
       "      <td>...</td>\n",
       "      <td>70852.021818</td>\n",
       "      <td>52714.928462</td>\n",
       "      <td>115827.664056</td>\n",
       "      <td>35415.340000</td>\n",
       "      <td>47218.529161</td>\n",
       "      <td>88666.468392</td>\n",
       "      <td>2883.492238</td>\n",
       "      <td>19789.219231</td>\n",
       "      <td>9371.531608</td>\n",
       "      <td>443.736512</td>\n",
       "    </tr>\n",
       "    <tr>\n",
       "      <th>42</th>\n",
       "      <td>10375.148392</td>\n",
       "      <td>15976.902448</td>\n",
       "      <td>814.451189</td>\n",
       "      <td>14885.264755</td>\n",
       "      <td>1052.296783</td>\n",
       "      <td>3.333333</td>\n",
       "      <td>721.913846</td>\n",
       "      <td>18238.584196</td>\n",
       "      <td>135.524056</td>\n",
       "      <td>404.596014</td>\n",
       "      <td>...</td>\n",
       "      <td>53384.897902</td>\n",
       "      <td>42913.221259</td>\n",
       "      <td>83497.778671</td>\n",
       "      <td>32852.632308</td>\n",
       "      <td>35724.612098</td>\n",
       "      <td>61205.272308</td>\n",
       "      <td>15183.474196</td>\n",
       "      <td>17495.198811</td>\n",
       "      <td>6540.721259</td>\n",
       "      <td>NaN</td>\n",
       "    </tr>\n",
       "    <tr>\n",
       "      <th>43</th>\n",
       "      <td>7549.109021</td>\n",
       "      <td>20722.851469</td>\n",
       "      <td>999.648881</td>\n",
       "      <td>18227.382168</td>\n",
       "      <td>575.417326</td>\n",
       "      <td>37.843246</td>\n",
       "      <td>516.772867</td>\n",
       "      <td>13185.211678</td>\n",
       "      <td>147.694196</td>\n",
       "      <td>507.426713</td>\n",
       "      <td>...</td>\n",
       "      <td>63668.895594</td>\n",
       "      <td>34808.442168</td>\n",
       "      <td>83646.160909</td>\n",
       "      <td>36196.693217</td>\n",
       "      <td>50769.708322</td>\n",
       "      <td>72883.223287</td>\n",
       "      <td>25058.369371</td>\n",
       "      <td>19349.989930</td>\n",
       "      <td>9594.867483</td>\n",
       "      <td>26.250000</td>\n",
       "    </tr>\n",
       "    <tr>\n",
       "      <th>44</th>\n",
       "      <td>8049.992308</td>\n",
       "      <td>9377.273007</td>\n",
       "      <td>571.016713</td>\n",
       "      <td>7403.959580</td>\n",
       "      <td>960.670490</td>\n",
       "      <td>34.648722</td>\n",
       "      <td>531.034895</td>\n",
       "      <td>4963.966224</td>\n",
       "      <td>99.817273</td>\n",
       "      <td>153.792657</td>\n",
       "      <td>...</td>\n",
       "      <td>31182.601818</td>\n",
       "      <td>18169.510070</td>\n",
       "      <td>39619.563287</td>\n",
       "      <td>11029.915734</td>\n",
       "      <td>23812.046993</td>\n",
       "      <td>31100.185175</td>\n",
       "      <td>2834.139580</td>\n",
       "      <td>6636.467413</td>\n",
       "      <td>3466.077063</td>\n",
       "      <td>3.505000</td>\n",
       "    </tr>\n",
       "    <tr>\n",
       "      <th>45</th>\n",
       "      <td>17745.916014</td>\n",
       "      <td>35800.912448</td>\n",
       "      <td>9508.014965</td>\n",
       "      <td>24229.873147</td>\n",
       "      <td>16107.063077</td>\n",
       "      <td>3554.222657</td>\n",
       "      <td>23757.771538</td>\n",
       "      <td>34050.409580</td>\n",
       "      <td>15485.885804</td>\n",
       "      <td>14245.086993</td>\n",
       "      <td>...</td>\n",
       "      <td>23674.035245</td>\n",
       "      <td>16641.927343</td>\n",
       "      <td>48125.897762</td>\n",
       "      <td>2728.627133</td>\n",
       "      <td>3690.272090</td>\n",
       "      <td>52896.166643</td>\n",
       "      <td>2.970000</td>\n",
       "      <td>6466.961888</td>\n",
       "      <td>561.239037</td>\n",
       "      <td>NaN</td>\n",
       "    </tr>\n",
       "  </tbody>\n",
       "</table>\n",
       "<p>45 rows × 81 columns</p>\n",
       "</div>"
      ],
      "text/plain": [
       "Dept             1              2             3             4             5   \\\n",
       "Store                                                                          \n",
       "1      22513.322937   46102.090420  13150.478042  36964.154476  24257.941119   \n",
       "2      30777.980769   65912.922517  17476.563357  45607.666573  30555.315315   \n",
       "3       7328.621049   16841.775664   5509.300769   8434.186503  11695.366573   \n",
       "4      36979.940070   93639.315385  19012.491678  56603.400140  45668.406783   \n",
       "5       9774.553077   12317.953287   4101.085175   9860.806783   6699.202238   \n",
       "6      23867.553776   50269.437273  16806.638811  34187.366503  34465.307622   \n",
       "7       9542.801259   22603.690769   8633.536923  14950.518601  13860.350490   \n",
       "8      14789.827343   35729.821748  10683.305105  21089.309301  19838.849231   \n",
       "9      11846.558252   24969.477413   7497.356783  17165.947762  19282.746014   \n",
       "10     39925.138951  109795.291469  32086.181469  48579.826364  58373.460280   \n",
       "11     18860.911958   57114.326224  17628.778671  28837.744545  36663.363916   \n",
       "12     17330.087622   74494.846224  17535.251678  26673.788182  27756.204615   \n",
       "13     47020.455455   76339.960000  26116.623706  42563.275455  56786.934755   \n",
       "14     30611.783357   77704.857972  19418.273986  52936.323287  33468.325035   \n",
       "15     13845.747832   26317.410769  10470.811958  13082.172448  16465.706993   \n",
       "16     11352.479371   23549.144965   7635.427273  14748.078112  13494.538671   \n",
       "17     22801.609161   42231.844406  19278.955035  23961.357273  27082.325594   \n",
       "18     21988.356224   63665.139510  16392.980490  26775.207203  22933.954965   \n",
       "19     21504.029161   50841.072937  18414.224476  31365.545315  28759.223846   \n",
       "20     40545.473217   78251.249930  15490.971259  51456.376643  41647.786503   \n",
       "21     14950.049231   47780.599161  14607.126923  19354.728042  16090.874545   \n",
       "22     21493.271119   53361.851888  13150.979510  32104.132378  23187.335105   \n",
       "23     33186.460559   70522.580140  19912.564755  27324.303077  36895.869021   \n",
       "24     18859.023357   40797.169301  11825.589021  29245.357552  29178.058811   \n",
       "25     20145.897483   36871.310559  11788.130979  20351.455455  12422.996434   \n",
       "26     19402.762937   27398.030979   7357.400769  24498.113846  17589.532587   \n",
       "27     30437.976224   79001.049161  20226.734615  43596.933916  28059.038252   \n",
       "28     20180.453986   57751.274336  12562.223287  27980.817203  28221.618392   \n",
       "29     15504.699580   25181.662727   7995.955804  14326.216224  12931.821259   \n",
       "30      9788.376643   12974.464476    739.981888  13216.100909    405.565944   \n",
       "31     17356.652448   58512.131538  10616.675944  34848.899231  18715.630769   \n",
       "32     22852.639510   50323.497343  15472.540140  28137.154965  20748.371888   \n",
       "33      2379.086573    7471.425105    283.950140   6107.616014    112.728310   \n",
       "34     19947.573077   34916.225874   8377.376434  19791.509021  21633.900559   \n",
       "35     17082.647902   45578.456224  14308.382797  19495.631119  24858.433706   \n",
       "36      2239.227413   13416.025664    381.324266   9873.505105    314.753982   \n",
       "37     11024.235874   16511.446224   1297.862028  17614.013636   1137.631189   \n",
       "38      6923.538531   10986.172657    498.700210  10669.501329    397.418322   \n",
       "39     21925.021189   67338.429371  20569.701608  44807.515105  24043.436783   \n",
       "40     18794.578811   26702.705175   6489.030350  24386.750559  17689.671678   \n",
       "41     23205.259930   48349.828951  17021.833357  30538.574895  25513.943776   \n",
       "42     10375.148392   15976.902448    814.451189  14885.264755   1052.296783   \n",
       "43      7549.109021   20722.851469    999.648881  18227.382168    575.417326   \n",
       "44      8049.992308    9377.273007    571.016713   7403.959580    960.670490   \n",
       "45     17745.916014   35800.912448   9508.014965  24229.873147  16107.063077   \n",
       "\n",
       "Dept             6             7             8             9             10  \\\n",
       "Store                                                                         \n",
       "1       4801.780140  24566.487413  35718.257622  28062.052238  31033.386364   \n",
       "2       6808.382517  40477.837063  58707.369441  34375.864476  38845.854476   \n",
       "3       2012.411818  10044.341608   8310.254196   9062.007692  10871.944126   \n",
       "4       8241.777692  50728.151399  62949.723776  34437.170979  37269.667413   \n",
       "5       1191.057622   6124.484336  13735.709441   7919.805944   9783.395385   \n",
       "6       7225.566643  34526.870420  47577.719790  48271.060140  47436.477902   \n",
       "7       6329.928811  10925.757063  13970.619371  29722.736084  21136.560280   \n",
       "8       3395.425455  20268.743776  26438.524336  11792.661678  20666.433776   \n",
       "9       2806.416364  13826.694336  21424.470699  13196.569720  12810.480350   \n",
       "10     10556.550769  58964.715664  86739.846643  64436.722517  48108.063497   \n",
       "11      5925.281678  34844.108462  34415.449580  19056.162168  23449.992727   \n",
       "12      6741.174895  34242.449161  42229.665035  19553.030490  17975.211119   \n",
       "13      7886.826993  59896.738601  36238.867972  41236.445175  29431.879231   \n",
       "14      7016.829790  53256.150280  53425.359860  22025.603497  20165.667133   \n",
       "15      4244.143776  22267.220070  20416.967273  15954.692937  11524.856294   \n",
       "16      5146.038951  11544.310140  14676.778322  28990.377343  12681.776643   \n",
       "17      5944.435245  19474.770559  20110.270839  27293.658042  14165.000000   \n",
       "18      5664.913077  33152.347203  32036.582098  18589.371259  16754.599860   \n",
       "19      5948.962867  33882.926853  42613.662937  30645.018112  27622.457762   \n",
       "20      8210.745734  49394.699231  76445.061259  38243.623916  41826.467552   \n",
       "21      3988.656294  24456.825664  18238.059790  16387.963636  14695.978881   \n",
       "22      5236.811329  29068.621608  37236.347692  23452.908881  19438.354266   \n",
       "23      7393.499650  43624.067413  36710.240909  50178.361748  31155.170559   \n",
       "24      4911.185804  28788.329441  49171.841748  23246.748322  27175.089231   \n",
       "25      3760.045035  17971.439580  29858.353636  14636.113636  20202.701469   \n",
       "26      4656.670490  16287.658531  28694.950909  16556.330769  10172.815734   \n",
       "27      7730.729091  43272.914965  42181.469580  29315.697133  36757.327413   \n",
       "28      5016.258671  29228.446923  33375.575524  17930.710070  21083.404825   \n",
       "29      3289.884965  16854.082238  20680.465944  11370.866364   9400.183077   \n",
       "30        27.303937    379.771958  11733.993776     76.845352    196.116923   \n",
       "31      3489.809441  21012.438531  25277.976713  10815.516713  19911.584406   \n",
       "32      4589.748392  25375.036993  24681.349580  20739.684685  22887.257483   \n",
       "33        11.996538    392.912867   3679.792168     42.788348     80.301189   \n",
       "34      3419.062028  18055.491608  27165.013147  17224.253497  16957.163566   \n",
       "35      7256.417133  30267.589790  18416.401678  15657.032937  14818.443706   \n",
       "36        26.291579    414.428322   3417.640420    102.211739    175.052308   \n",
       "37        46.313630    824.978392  16151.397902    151.233803    387.644685   \n",
       "38        37.014855    413.539021   9485.399441     77.520350    365.364895   \n",
       "39      4911.540420  40020.492867  36130.641608  19396.117692  14919.373916   \n",
       "40      4003.068601  18898.214336  33971.532238  19065.436294  19612.629301   \n",
       "41      5267.832098  33711.105734  33729.081678  32743.470140  15194.223706   \n",
       "42         3.333333    721.913846  18238.584196    135.524056    404.596014   \n",
       "43        37.843246    516.772867  13185.211678    147.694196    507.426713   \n",
       "44        34.648722    531.034895   4963.966224     99.817273    153.792657   \n",
       "45      3554.222657  23757.771538  34050.409580  15485.885804  14245.086993   \n",
       "\n",
       "Dept   ...             90            91             92            93  \\\n",
       "Store  ...                                                             \n",
       "1      ...   82427.547832  64238.943427  135458.969510  71699.182378   \n",
       "2      ...   97611.537133  80610.380350  164840.230979  70581.977063   \n",
       "3      ...    1540.049161    318.685594    7568.280210           NaN   \n",
       "4      ...   89248.965524  66535.407203  159365.107902  67815.163007   \n",
       "5      ...    3059.520000   1457.221678    7759.205594           NaN   \n",
       "6      ...   53715.366084  45270.405175   99024.796503  41359.651189   \n",
       "7      ...   13858.405874  10263.880000   26530.890559   1328.178252   \n",
       "8      ...   39333.566154  31530.560909   60465.630000  27515.635315   \n",
       "9      ...    2981.249510    869.273287   14123.063147     21.240000   \n",
       "10     ...   14291.869790  12703.554406   50450.731958   1420.418462   \n",
       "11     ...   48995.984196  42030.370699   77392.741608  32623.853706   \n",
       "12     ...   11060.175455   6779.841469   24682.599161    562.897203   \n",
       "13     ...  115592.108042  81272.990979  162034.099301  50024.937203   \n",
       "14     ...  107174.743986  91406.434615  182527.956014  62088.622937   \n",
       "15     ...    5345.240420   3414.740909   18262.376853    422.878252   \n",
       "16     ...    6922.744685   3331.204965   20446.967832    997.032281   \n",
       "17     ...   31293.306224  12033.678951   53043.348741   3646.955664   \n",
       "18     ...   18481.394266  14124.482517   50079.623636   2113.300147   \n",
       "19     ...   67545.406434  54692.797413  113720.212937  37087.937063   \n",
       "20     ...   95858.587343  78493.190140  164633.741538  52818.583706   \n",
       "21     ...   10983.598741   6735.454126   21915.114965    663.384126   \n",
       "22     ...   21413.411608  21405.250629   51603.339091   2531.663986   \n",
       "23     ...   20814.992168  19604.867692   59604.574615   2111.610780   \n",
       "24     ...   72650.442867  52435.498252  121882.073916  37876.836853   \n",
       "25     ...   11932.596503   7767.272098   38854.460699    777.747483   \n",
       "26     ...   57016.589231  39434.281259   84988.311818  25615.331469   \n",
       "27     ...   96374.536573  66687.096573  146518.141399  54910.693776   \n",
       "28     ...   65285.952098  57575.601119   98486.960350  47923.508671   \n",
       "29     ...   10950.327972   4691.213217   25166.714266   1190.882098   \n",
       "30     ...   34622.986224  31576.583986   53256.041399  22409.698392   \n",
       "31     ...   86167.265804  70232.133566  127010.118601  57876.205664   \n",
       "32     ...   61639.637133  48368.756154  100122.929021  30732.226923   \n",
       "33     ...   24899.923147   9862.862867   34227.662867  25648.054266   \n",
       "34     ...   44338.936783  34018.102238   67782.520909  29590.111329   \n",
       "35     ...   12960.450210   7919.080140   33776.032028   1528.451469   \n",
       "36     ...   35474.191958  11097.875874   44539.564476  26103.315664   \n",
       "37     ...   44144.428112  30870.677063   59440.577133  21599.851049   \n",
       "38     ...   34765.576783  25404.860420   45314.434825  18868.919091   \n",
       "39     ...   78649.534685  60386.286014  110126.209580  39684.510000   \n",
       "40     ...   61258.202867  43256.156853   96475.753287  27532.751189   \n",
       "41     ...   70852.021818  52714.928462  115827.664056  35415.340000   \n",
       "42     ...   53384.897902  42913.221259   83497.778671  32852.632308   \n",
       "43     ...   63668.895594  34808.442168   83646.160909  36196.693217   \n",
       "44     ...   31182.601818  18169.510070   39619.563287  11029.915734   \n",
       "45     ...   23674.035245  16641.927343   48125.897762   2728.627133   \n",
       "\n",
       "Dept             94             95            96            97            98  \\\n",
       "Store                                                                          \n",
       "1      63180.568182  120772.062168  33251.831639  35207.348811  11827.770769   \n",
       "2      70018.672517  143588.751888  34319.063846  40697.204056  14035.400839   \n",
       "3        656.294444   15745.528252   3934.540000    343.437357     30.570833   \n",
       "4      68159.106573  147236.473706  38346.573077  39339.238951  15009.249371   \n",
       "5        411.431486   19340.693986   5985.671119    667.070315     29.976087   \n",
       "6      41701.693497   89208.786294  30450.542238  20637.667063   9728.100629   \n",
       "7        699.332522   34208.097273   1123.383217   4374.927902    260.886596   \n",
       "8      25442.578042   62951.463706     16.986667  16978.366503   6880.466434   \n",
       "9        599.112568   29575.050769   3596.107762    372.655556     27.930000   \n",
       "10       393.833168   73344.654685  11079.676643   5323.506503    198.179091   \n",
       "11     37474.038531   77487.279091  21685.298811  16596.197552   9570.351469   \n",
       "12       355.264000   43405.853357      6.441176   2394.894755    747.609860   \n",
       "13     75522.874406  136844.834056   9165.079930  27556.759231  14980.825385   \n",
       "14     64541.165664  144446.932517      5.193846  25684.497762  17768.013706   \n",
       "15       272.906250   27291.017133   2784.158881   2071.211888    273.504884   \n",
       "16       673.280928   27385.769231    126.934126   2116.696993     42.618571   \n",
       "17       855.782273   50614.958462    819.416458   7798.283427    169.379120   \n",
       "18      4880.242248   57668.251748      0.481333   5350.500432    881.150853   \n",
       "19     37643.786434   97240.503566  15860.814825  20370.269720  12884.229091   \n",
       "20     63148.334965  150613.955385     15.266875  25836.062238  19284.377343   \n",
       "21       537.663333   40379.295175      2.000000   3260.404685    111.680672   \n",
       "22       857.190894   57868.571119      6.243000   4582.594755    177.560576   \n",
       "23       374.898804   54199.088322  13168.146713   6149.684755    100.585083   \n",
       "24     51850.045105   93927.992098  13623.074615  18597.824126   9878.970140   \n",
       "25      2607.109754   43991.147692     -1.270000   2706.628252    665.919779   \n",
       "26     42544.202028   70236.827622  18596.331888  14830.084825   8025.948601   \n",
       "27     69638.930420  119519.410909  20806.990909  21268.805734  11524.137832   \n",
       "28     36164.364615   96322.113846  26288.955734  23828.861329  10673.133077   \n",
       "29       263.083012   30980.395594     11.800000   2131.676783    139.677971   \n",
       "30     24522.622587   45456.508322  19163.112028  13172.531119   3207.034685   \n",
       "31     68732.141818  106696.019231  30335.294266  31144.978112  10101.886713   \n",
       "32     48650.040979   84695.234196   2308.411818  17160.310000   7939.262378   \n",
       "33     29002.624476   27022.949161   9371.822168   5375.769510   7340.692168   \n",
       "34     37428.096923   69245.187972  19154.212308  17570.577483   7775.998182   \n",
       "35       200.270435   43286.536993     10.788333   3738.292517     68.284831   \n",
       "36     47372.151119   39735.688741  15683.341818   6469.273636   9009.943776   \n",
       "37     33656.648112   51410.551119  20375.380769  13960.701399   5286.761119   \n",
       "38     21331.411259   41793.649021  11981.676643   9902.368182   4783.086713   \n",
       "39     59830.190280  103036.757133  27089.158601  23993.406853   9767.295734   \n",
       "40     38210.900699   66572.881259  15309.077972  17131.033497   8178.371049   \n",
       "41     47218.529161   88666.468392   2883.492238  19789.219231   9371.531608   \n",
       "42     35724.612098   61205.272308  15183.474196  17495.198811   6540.721259   \n",
       "43     50769.708322   72883.223287  25058.369371  19349.989930   9594.867483   \n",
       "44     23812.046993   31100.185175   2834.139580   6636.467413   3466.077063   \n",
       "45      3690.272090   52896.166643      2.970000   6466.961888    561.239037   \n",
       "\n",
       "Dept           99  \n",
       "Store              \n",
       "1      306.091081  \n",
       "2      475.896905  \n",
       "3             NaN  \n",
       "4      623.182381  \n",
       "5             NaN  \n",
       "6      388.636750  \n",
       "7       15.000000  \n",
       "8      298.153714  \n",
       "9             NaN  \n",
       "10            NaN  \n",
       "11     520.938125  \n",
       "12      29.880000  \n",
       "13     732.604651  \n",
       "14     635.556047  \n",
       "15      29.880000  \n",
       "16      59.760000  \n",
       "17       2.290000  \n",
       "18      12.560000  \n",
       "19     440.374878  \n",
       "20     796.153864  \n",
       "21      29.880000  \n",
       "22      27.150000  \n",
       "23      29.880000  \n",
       "24     413.774211  \n",
       "25            NaN  \n",
       "26     221.950278  \n",
       "27     562.980000  \n",
       "28     316.605610  \n",
       "29      29.880000  \n",
       "30      -0.641818  \n",
       "31     218.742203  \n",
       "32     379.147250  \n",
       "33       0.022000  \n",
       "34     347.144324  \n",
       "35            NaN  \n",
       "36       0.020000  \n",
       "37      15.000000  \n",
       "38      25.000000  \n",
       "39     334.869756  \n",
       "40     167.374167  \n",
       "41     443.736512  \n",
       "42            NaN  \n",
       "43      26.250000  \n",
       "44       3.505000  \n",
       "45            NaN  \n",
       "\n",
       "[45 rows x 81 columns]"
      ]
     },
     "metadata": {},
     "output_type": "display_data"
    }
   ],
   "source": [
    "df_dep_store = pd.pivot_table(df_merge, index='Store', columns='Dept', values='Weekly_Sales')\n",
    "display(df_dep_store)"
   ]
  },
  {
   "cell_type": "markdown",
   "metadata": {},
   "source": [
    "### Delete some wrong values"
   ]
  },
  {
   "cell_type": "code",
   "execution_count": 32,
   "metadata": {},
   "outputs": [
    {
     "data": {
      "text/html": [
       "<div>\n",
       "<style scoped>\n",
       "    .dataframe tbody tr th:only-of-type {\n",
       "        vertical-align: middle;\n",
       "    }\n",
       "\n",
       "    .dataframe tbody tr th {\n",
       "        vertical-align: top;\n",
       "    }\n",
       "\n",
       "    .dataframe thead th {\n",
       "        text-align: right;\n",
       "    }\n",
       "</style>\n",
       "<table border=\"1\" class=\"dataframe\">\n",
       "  <thead>\n",
       "    <tr style=\"text-align: right;\">\n",
       "      <th></th>\n",
       "      <th>Store</th>\n",
       "      <th>Dept</th>\n",
       "      <th>Date</th>\n",
       "      <th>Weekly_Sales</th>\n",
       "      <th>IsHoliday_x</th>\n",
       "      <th>Temperature</th>\n",
       "      <th>Fuel_Price</th>\n",
       "      <th>MarkDown1</th>\n",
       "      <th>MarkDown2</th>\n",
       "      <th>MarkDown3</th>\n",
       "      <th>MarkDown4</th>\n",
       "      <th>MarkDown5</th>\n",
       "      <th>CPI</th>\n",
       "      <th>Unemployment</th>\n",
       "      <th>IsHoliday_y</th>\n",
       "      <th>Type</th>\n",
       "      <th>Size</th>\n",
       "    </tr>\n",
       "  </thead>\n",
       "  <tbody>\n",
       "    <tr>\n",
       "      <th>188</th>\n",
       "      <td>1</td>\n",
       "      <td>47</td>\n",
       "      <td>2010-02-19</td>\n",
       "      <td>-863.00</td>\n",
       "      <td>False</td>\n",
       "      <td>39.93</td>\n",
       "      <td>2.514</td>\n",
       "      <td>NaN</td>\n",
       "      <td>NaN</td>\n",
       "      <td>NaN</td>\n",
       "      <td>NaN</td>\n",
       "      <td>NaN</td>\n",
       "      <td>211.289143</td>\n",
       "      <td>8.106</td>\n",
       "      <td>False</td>\n",
       "      <td>A</td>\n",
       "      <td>151315</td>\n",
       "    </tr>\n",
       "    <tr>\n",
       "      <th>406</th>\n",
       "      <td>1</td>\n",
       "      <td>47</td>\n",
       "      <td>2010-03-12</td>\n",
       "      <td>-698.00</td>\n",
       "      <td>False</td>\n",
       "      <td>57.79</td>\n",
       "      <td>2.667</td>\n",
       "      <td>NaN</td>\n",
       "      <td>NaN</td>\n",
       "      <td>NaN</td>\n",
       "      <td>NaN</td>\n",
       "      <td>NaN</td>\n",
       "      <td>211.380643</td>\n",
       "      <td>8.106</td>\n",
       "      <td>False</td>\n",
       "      <td>A</td>\n",
       "      <td>151315</td>\n",
       "    </tr>\n",
       "    <tr>\n",
       "      <th>2549</th>\n",
       "      <td>1</td>\n",
       "      <td>47</td>\n",
       "      <td>2010-10-08</td>\n",
       "      <td>-58.00</td>\n",
       "      <td>False</td>\n",
       "      <td>63.93</td>\n",
       "      <td>2.633</td>\n",
       "      <td>NaN</td>\n",
       "      <td>NaN</td>\n",
       "      <td>NaN</td>\n",
       "      <td>NaN</td>\n",
       "      <td>NaN</td>\n",
       "      <td>211.746754</td>\n",
       "      <td>7.838</td>\n",
       "      <td>False</td>\n",
       "      <td>A</td>\n",
       "      <td>151315</td>\n",
       "    </tr>\n",
       "    <tr>\n",
       "      <th>3632</th>\n",
       "      <td>1</td>\n",
       "      <td>54</td>\n",
       "      <td>2011-01-21</td>\n",
       "      <td>-50.00</td>\n",
       "      <td>False</td>\n",
       "      <td>44.04</td>\n",
       "      <td>3.016</td>\n",
       "      <td>NaN</td>\n",
       "      <td>NaN</td>\n",
       "      <td>NaN</td>\n",
       "      <td>NaN</td>\n",
       "      <td>NaN</td>\n",
       "      <td>211.827234</td>\n",
       "      <td>7.742</td>\n",
       "      <td>False</td>\n",
       "      <td>A</td>\n",
       "      <td>151315</td>\n",
       "    </tr>\n",
       "    <tr>\n",
       "      <th>4132</th>\n",
       "      <td>1</td>\n",
       "      <td>47</td>\n",
       "      <td>2011-03-11</td>\n",
       "      <td>0.00</td>\n",
       "      <td>False</td>\n",
       "      <td>53.56</td>\n",
       "      <td>3.459</td>\n",
       "      <td>NaN</td>\n",
       "      <td>NaN</td>\n",
       "      <td>NaN</td>\n",
       "      <td>NaN</td>\n",
       "      <td>NaN</td>\n",
       "      <td>214.111056</td>\n",
       "      <td>7.742</td>\n",
       "      <td>False</td>\n",
       "      <td>A</td>\n",
       "      <td>151315</td>\n",
       "    </tr>\n",
       "    <tr>\n",
       "      <th>...</th>\n",
       "      <td>...</td>\n",
       "      <td>...</td>\n",
       "      <td>...</td>\n",
       "      <td>...</td>\n",
       "      <td>...</td>\n",
       "      <td>...</td>\n",
       "      <td>...</td>\n",
       "      <td>...</td>\n",
       "      <td>...</td>\n",
       "      <td>...</td>\n",
       "      <td>...</td>\n",
       "      <td>...</td>\n",
       "      <td>...</td>\n",
       "      <td>...</td>\n",
       "      <td>...</td>\n",
       "      <td>...</td>\n",
       "      <td>...</td>\n",
       "    </tr>\n",
       "    <tr>\n",
       "      <th>420066</th>\n",
       "      <td>45</td>\n",
       "      <td>49</td>\n",
       "      <td>2012-05-25</td>\n",
       "      <td>-4.97</td>\n",
       "      <td>False</td>\n",
       "      <td>67.21</td>\n",
       "      <td>3.798</td>\n",
       "      <td>5370.39</td>\n",
       "      <td>NaN</td>\n",
       "      <td>361.22</td>\n",
       "      <td>1287.62</td>\n",
       "      <td>2461.81</td>\n",
       "      <td>191.002810</td>\n",
       "      <td>8.567</td>\n",
       "      <td>False</td>\n",
       "      <td>B</td>\n",
       "      <td>118221</td>\n",
       "    </tr>\n",
       "    <tr>\n",
       "      <th>420403</th>\n",
       "      <td>45</td>\n",
       "      <td>49</td>\n",
       "      <td>2012-06-29</td>\n",
       "      <td>-34.00</td>\n",
       "      <td>False</td>\n",
       "      <td>75.22</td>\n",
       "      <td>3.506</td>\n",
       "      <td>3291.36</td>\n",
       "      <td>425.60</td>\n",
       "      <td>NaN</td>\n",
       "      <td>314.88</td>\n",
       "      <td>2255.34</td>\n",
       "      <td>191.099246</td>\n",
       "      <td>8.567</td>\n",
       "      <td>False</td>\n",
       "      <td>B</td>\n",
       "      <td>118221</td>\n",
       "    </tr>\n",
       "    <tr>\n",
       "      <th>420736</th>\n",
       "      <td>45</td>\n",
       "      <td>49</td>\n",
       "      <td>2012-08-03</td>\n",
       "      <td>-1.91</td>\n",
       "      <td>False</td>\n",
       "      <td>76.58</td>\n",
       "      <td>3.654</td>\n",
       "      <td>24853.05</td>\n",
       "      <td>39.56</td>\n",
       "      <td>17.96</td>\n",
       "      <td>11142.69</td>\n",
       "      <td>2768.32</td>\n",
       "      <td>191.164090</td>\n",
       "      <td>8.684</td>\n",
       "      <td>False</td>\n",
       "      <td>B</td>\n",
       "      <td>118221</td>\n",
       "    </tr>\n",
       "    <tr>\n",
       "      <th>421007</th>\n",
       "      <td>45</td>\n",
       "      <td>54</td>\n",
       "      <td>2012-08-31</td>\n",
       "      <td>0.00</td>\n",
       "      <td>False</td>\n",
       "      <td>75.09</td>\n",
       "      <td>3.867</td>\n",
       "      <td>23641.30</td>\n",
       "      <td>6.00</td>\n",
       "      <td>92.93</td>\n",
       "      <td>6988.31</td>\n",
       "      <td>3992.13</td>\n",
       "      <td>191.461281</td>\n",
       "      <td>8.684</td>\n",
       "      <td>False</td>\n",
       "      <td>B</td>\n",
       "      <td>118221</td>\n",
       "    </tr>\n",
       "    <tr>\n",
       "      <th>421142</th>\n",
       "      <td>45</td>\n",
       "      <td>49</td>\n",
       "      <td>2012-09-14</td>\n",
       "      <td>-6.83</td>\n",
       "      <td>False</td>\n",
       "      <td>67.87</td>\n",
       "      <td>3.948</td>\n",
       "      <td>11407.95</td>\n",
       "      <td>NaN</td>\n",
       "      <td>4.30</td>\n",
       "      <td>3421.72</td>\n",
       "      <td>5268.92</td>\n",
       "      <td>191.699850</td>\n",
       "      <td>8.684</td>\n",
       "      <td>False</td>\n",
       "      <td>B</td>\n",
       "      <td>118221</td>\n",
       "    </tr>\n",
       "  </tbody>\n",
       "</table>\n",
       "<p>1358 rows × 17 columns</p>\n",
       "</div>"
      ],
      "text/plain": [
       "        Store  Dept        Date  Weekly_Sales  IsHoliday_x  Temperature  \\\n",
       "188         1    47  2010-02-19       -863.00        False        39.93   \n",
       "406         1    47  2010-03-12       -698.00        False        57.79   \n",
       "2549        1    47  2010-10-08        -58.00        False        63.93   \n",
       "3632        1    54  2011-01-21        -50.00        False        44.04   \n",
       "4132        1    47  2011-03-11          0.00        False        53.56   \n",
       "...       ...   ...         ...           ...          ...          ...   \n",
       "420066     45    49  2012-05-25         -4.97        False        67.21   \n",
       "420403     45    49  2012-06-29        -34.00        False        75.22   \n",
       "420736     45    49  2012-08-03         -1.91        False        76.58   \n",
       "421007     45    54  2012-08-31          0.00        False        75.09   \n",
       "421142     45    49  2012-09-14         -6.83        False        67.87   \n",
       "\n",
       "        Fuel_Price  MarkDown1  MarkDown2  MarkDown3  MarkDown4  MarkDown5  \\\n",
       "188          2.514        NaN        NaN        NaN        NaN        NaN   \n",
       "406          2.667        NaN        NaN        NaN        NaN        NaN   \n",
       "2549         2.633        NaN        NaN        NaN        NaN        NaN   \n",
       "3632         3.016        NaN        NaN        NaN        NaN        NaN   \n",
       "4132         3.459        NaN        NaN        NaN        NaN        NaN   \n",
       "...            ...        ...        ...        ...        ...        ...   \n",
       "420066       3.798    5370.39        NaN     361.22    1287.62    2461.81   \n",
       "420403       3.506    3291.36     425.60        NaN     314.88    2255.34   \n",
       "420736       3.654   24853.05      39.56      17.96   11142.69    2768.32   \n",
       "421007       3.867   23641.30       6.00      92.93    6988.31    3992.13   \n",
       "421142       3.948   11407.95        NaN       4.30    3421.72    5268.92   \n",
       "\n",
       "               CPI  Unemployment  IsHoliday_y Type    Size  \n",
       "188     211.289143         8.106        False    A  151315  \n",
       "406     211.380643         8.106        False    A  151315  \n",
       "2549    211.746754         7.838        False    A  151315  \n",
       "3632    211.827234         7.742        False    A  151315  \n",
       "4132    214.111056         7.742        False    A  151315  \n",
       "...            ...           ...          ...  ...     ...  \n",
       "420066  191.002810         8.567        False    B  118221  \n",
       "420403  191.099246         8.567        False    B  118221  \n",
       "420736  191.164090         8.684        False    B  118221  \n",
       "421007  191.461281         8.684        False    B  118221  \n",
       "421142  191.699850         8.684        False    B  118221  \n",
       "\n",
       "[1358 rows x 17 columns]"
      ]
     },
     "metadata": {},
     "output_type": "display_data"
    }
   ],
   "source": [
    "display(df_merge[df_merge['Weekly_Sales'] <= 0])"
   ]
  },
  {
   "cell_type": "code",
   "execution_count": 34,
   "metadata": {},
   "outputs": [
    {
     "data": {
      "text/plain": [
       "(420212, 17)"
      ]
     },
     "execution_count": 34,
     "metadata": {},
     "output_type": "execute_result"
    }
   ],
   "source": [
    "df_merge = df_merge[df_merge['Weekly_Sales']>0]\n",
    "df_merge.shape"
   ]
  },
  {
   "cell_type": "markdown",
   "metadata": {},
   "source": [
    "### I want to know the period of data"
   ]
  },
  {
   "cell_type": "code",
   "execution_count": 37,
   "metadata": {},
   "outputs": [
    {
     "data": {
      "text/plain": [
       "0    2010-02-05\n",
       "1    2010-02-05\n",
       "2    2010-02-05\n",
       "3    2010-02-05\n",
       "4    2010-02-05\n",
       "Name: Date, dtype: object"
      ]
     },
     "execution_count": 37,
     "metadata": {},
     "output_type": "execute_result"
    }
   ],
   "source": [
    "df_merge['Date'].head()"
   ]
  },
  {
   "cell_type": "code",
   "execution_count": 36,
   "metadata": {},
   "outputs": [
    {
     "data": {
      "text/plain": [
       "421565    2012-10-26\n",
       "421566    2012-10-26\n",
       "421567    2012-10-26\n",
       "421568    2012-10-26\n",
       "421569    2012-10-26\n",
       "Name: Date, dtype: object"
      ]
     },
     "execution_count": 36,
     "metadata": {},
     "output_type": "execute_result"
    }
   ],
   "source": [
    "df_merge['Date'].tail()"
   ]
  },
  {
   "cell_type": "code",
   "execution_count": 47,
   "metadata": {},
   "outputs": [
    {
     "data": {
      "text/plain": [
       "0         2010-02-05\n",
       "1         2010-02-05\n",
       "2         2010-02-05\n",
       "3         2010-02-05\n",
       "4         2010-02-05\n",
       "421565    2012-10-26\n",
       "421566    2012-10-26\n",
       "421567    2012-10-26\n",
       "421568    2012-10-26\n",
       "421569    2012-10-26\n",
       "Name: Date, dtype: object"
      ]
     },
     "execution_count": 47,
     "metadata": {},
     "output_type": "execute_result"
    }
   ],
   "source": [
    "pd.concat([df_merge['Date'].head(5), df_merge['Date'].tail(5)])"
   ]
  },
  {
   "cell_type": "markdown",
   "metadata": {},
   "source": [
    "### Reviewing the effect of holiday on weekly sale"
   ]
  },
  {
   "cell_type": "code",
   "execution_count": 51,
   "metadata": {},
   "outputs": [
    {
     "data": {
      "text/plain": [
       "<Axes: xlabel='IsHoliday_x', ylabel='Weekly_Sales'>"
      ]
     },
     "execution_count": 51,
     "metadata": {},
     "output_type": "execute_result"
    },
    {
     "data": {
      "image/png": "[encoded data removed]",
      "text/plain": [
       "<Figure size 640x480 with 1 Axes>"
      ]
     },
     "metadata": {},
     "output_type": "display_data"
    }
   ],
   "source": [
    "sns.barplot(data=df_merge, x='IsHoliday_x', y='Weekly_Sales')"
   ]
  },
  {
   "cell_type": "markdown",
   "metadata": {},
   "source": [
    "### We want to know which Holiday has more effect on sales"
   ]
  },
  {
   "cell_type": "code",
   "execution_count": 235,
   "metadata": {},
   "outputs": [
    {
     "data": {
      "text/plain": [
       "array(['2010-02-12', '2010-09-10', '2010-11-26', '2010-12-31',\n",
       "       '2011-02-11', '2011-09-09', '2011-11-25', '2011-12-30',\n",
       "       '2012-02-10', '2012-09-07'], dtype=object)"
      ]
     },
     "execution_count": 235,
     "metadata": {},
     "output_type": "execute_result"
    }
   ],
   "source": [
    "df_holiday = df_merge[df_merge['IsHoliday_x'] == True]\n",
    "df_holiday['Date'].unique()"
   ]
  },
  {
   "cell_type": "code",
   "execution_count": 236,
   "metadata": {},
   "outputs": [
    {
     "name": "stderr",
     "output_type": "stream",
     "text": [
      "C:\\Users\\rahim\\AppData\\Local\\Temp\\ipykernel_18840\\1154660734.py:2: FutureWarning: Setting an item of incompatible dtype is deprecated and will raise in a future error of pandas. Value 'True' has dtype incompatible with float64, please explicitly cast to a compatible dtype first.\n",
      "  df_merge.loc[(df_merge['Date'] == '2010-02-12') | (df_merge['Date'] == '2011-02-11') | (df_merge['Date'] == '2012-02-10'),'Super_Bowl'] = True\n"
     ]
    }
   ],
   "source": [
    "# Create new column that name is Super_Bowl and fill this by True or False\n",
    "df_merge.loc[(df_merge['Date'] == '2010-02-12') | (df_merge['Date'] == '2011-02-11') | (df_merge['Date'] == '2012-02-10'),'Super_Bowl'] = True\n",
    "df_merge.loc[(df_merge['Date'] != '2010-02-12') & (df_merge['Date'] != '2011-02-11') & (df_merge['Date'] != '2012-02-10'),'Super_Bowl'] = False"
   ]
  },
  {
   "cell_type": "code",
   "execution_count": 237,
   "metadata": {},
   "outputs": [
    {
     "name": "stderr",
     "output_type": "stream",
     "text": [
      "C:\\Users\\rahim\\AppData\\Local\\Temp\\ipykernel_18840\\3296950984.py:2: FutureWarning: Setting an item of incompatible dtype is deprecated and will raise in a future error of pandas. Value 'True' has dtype incompatible with float64, please explicitly cast to a compatible dtype first.\n",
      "  df_merge.loc[(df_merge['Date'] == '2010-09-10') | (df_merge['Date'] == '2011-09-09') | (df_merge['Date'] == '2012-09-07'), 'Labor_Day'] = True\n"
     ]
    }
   ],
   "source": [
    "# Create new column that name is Labor_Day and fill this by True or False\n",
    "df_merge.loc[(df_merge['Date'] == '2010-09-10') | (df_merge['Date'] == '2011-09-09') | (df_merge['Date'] == '2012-09-07'), 'Labor_Day'] = True\n",
    "df_merge.loc[(df_merge['Date'] != '2010-09-10') & (df_merge['Date'] != '2011-09-09') & (df_merge['Date'] != '2012-09-07'), 'Labor_Day'] = False"
   ]
  },
  {
   "cell_type": "code",
   "execution_count": 238,
   "metadata": {},
   "outputs": [
    {
     "name": "stderr",
     "output_type": "stream",
     "text": [
      "C:\\Users\\rahim\\AppData\\Local\\Temp\\ipykernel_18840\\4260021452.py:2: FutureWarning: Setting an item of incompatible dtype is deprecated and will raise in a future error of pandas. Value 'True' has dtype incompatible with float64, please explicitly cast to a compatible dtype first.\n",
      "  df_merge.loc[(df_merge['Date'] == '2010-11-26') | (df_merge['Date'] == '2011-11-25'), 'Thanksgiving'] = True\n"
     ]
    }
   ],
   "source": [
    "# Create new column that name is Thanksgiving and fill this by True or False\n",
    "df_merge.loc[(df_merge['Date'] == '2010-11-26') | (df_merge['Date'] == '2011-11-25'), 'Thanksgiving'] = True\n",
    "df_merge.loc[(df_merge['Date'] != '2010-11-26') & (df_merge['Date'] != '2011-11-25'), 'Thanksgiving'] = False"
   ]
  },
  {
   "cell_type": "code",
   "execution_count": 239,
   "metadata": {},
   "outputs": [
    {
     "name": "stderr",
     "output_type": "stream",
     "text": [
      "C:\\Users\\rahim\\AppData\\Local\\Temp\\ipykernel_18840\\1153163674.py:2: FutureWarning: Setting an item of incompatible dtype is deprecated and will raise in a future error of pandas. Value 'True' has dtype incompatible with float64, please explicitly cast to a compatible dtype first.\n",
      "  df_merge.loc[(df_merge['Date'] == '2010-12-31') | (df_merge['Date'] == '2011-12-30'), 'Christmas'] = True\n"
     ]
    }
   ],
   "source": [
    "# Create new column that name is Christmas and fill this by True or False\n",
    "df_merge.loc[(df_merge['Date'] == '2010-12-31') | (df_merge['Date'] == '2011-12-30'), 'Christmas'] = True\n",
    "df_merge.loc[(df_merge['Date'] != '2010-12-31') & (df_merge['Date'] != '2011-12-30'), 'Christmas'] = False"
   ]
  },
  {
   "cell_type": "code",
   "execution_count": 240,
   "metadata": {},
   "outputs": [
    {
     "data": {
      "text/html": [
       "<div>\n",
       "<style scoped>\n",
       "    .dataframe tbody tr th:only-of-type {\n",
       "        vertical-align: middle;\n",
       "    }\n",
       "\n",
       "    .dataframe tbody tr th {\n",
       "        vertical-align: top;\n",
       "    }\n",
       "\n",
       "    .dataframe thead th {\n",
       "        text-align: right;\n",
       "    }\n",
       "</style>\n",
       "<table border=\"1\" class=\"dataframe\">\n",
       "  <thead>\n",
       "    <tr style=\"text-align: right;\">\n",
       "      <th></th>\n",
       "      <th>Store</th>\n",
       "      <th>Dept</th>\n",
       "      <th>Date</th>\n",
       "      <th>Weekly_Sales</th>\n",
       "      <th>IsHoliday_x</th>\n",
       "      <th>Temperature</th>\n",
       "      <th>Fuel_Price</th>\n",
       "      <th>MarkDown1</th>\n",
       "      <th>MarkDown2</th>\n",
       "      <th>MarkDown3</th>\n",
       "      <th>...</th>\n",
       "      <th>MarkDown5</th>\n",
       "      <th>CPI</th>\n",
       "      <th>Unemployment</th>\n",
       "      <th>IsHoliday_y</th>\n",
       "      <th>Type</th>\n",
       "      <th>Size</th>\n",
       "      <th>Super_Bowl</th>\n",
       "      <th>Labor_Day</th>\n",
       "      <th>Thanksgiving</th>\n",
       "      <th>Christmas</th>\n",
       "    </tr>\n",
       "  </thead>\n",
       "  <tbody>\n",
       "    <tr>\n",
       "      <th>0</th>\n",
       "      <td>1</td>\n",
       "      <td>1</td>\n",
       "      <td>2010-02-05</td>\n",
       "      <td>24924.50</td>\n",
       "      <td>False</td>\n",
       "      <td>42.31</td>\n",
       "      <td>2.572</td>\n",
       "      <td>NaN</td>\n",
       "      <td>NaN</td>\n",
       "      <td>NaN</td>\n",
       "      <td>...</td>\n",
       "      <td>NaN</td>\n",
       "      <td>211.096358</td>\n",
       "      <td>8.106</td>\n",
       "      <td>False</td>\n",
       "      <td>A</td>\n",
       "      <td>151315</td>\n",
       "      <td>False</td>\n",
       "      <td>False</td>\n",
       "      <td>False</td>\n",
       "      <td>False</td>\n",
       "    </tr>\n",
       "    <tr>\n",
       "      <th>1</th>\n",
       "      <td>1</td>\n",
       "      <td>2</td>\n",
       "      <td>2010-02-05</td>\n",
       "      <td>50605.27</td>\n",
       "      <td>False</td>\n",
       "      <td>42.31</td>\n",
       "      <td>2.572</td>\n",
       "      <td>NaN</td>\n",
       "      <td>NaN</td>\n",
       "      <td>NaN</td>\n",
       "      <td>...</td>\n",
       "      <td>NaN</td>\n",
       "      <td>211.096358</td>\n",
       "      <td>8.106</td>\n",
       "      <td>False</td>\n",
       "      <td>A</td>\n",
       "      <td>151315</td>\n",
       "      <td>False</td>\n",
       "      <td>False</td>\n",
       "      <td>False</td>\n",
       "      <td>False</td>\n",
       "    </tr>\n",
       "    <tr>\n",
       "      <th>2</th>\n",
       "      <td>1</td>\n",
       "      <td>3</td>\n",
       "      <td>2010-02-05</td>\n",
       "      <td>13740.12</td>\n",
       "      <td>False</td>\n",
       "      <td>42.31</td>\n",
       "      <td>2.572</td>\n",
       "      <td>NaN</td>\n",
       "      <td>NaN</td>\n",
       "      <td>NaN</td>\n",
       "      <td>...</td>\n",
       "      <td>NaN</td>\n",
       "      <td>211.096358</td>\n",
       "      <td>8.106</td>\n",
       "      <td>False</td>\n",
       "      <td>A</td>\n",
       "      <td>151315</td>\n",
       "      <td>False</td>\n",
       "      <td>False</td>\n",
       "      <td>False</td>\n",
       "      <td>False</td>\n",
       "    </tr>\n",
       "    <tr>\n",
       "      <th>3</th>\n",
       "      <td>1</td>\n",
       "      <td>4</td>\n",
       "      <td>2010-02-05</td>\n",
       "      <td>39954.04</td>\n",
       "      <td>False</td>\n",
       "      <td>42.31</td>\n",
       "      <td>2.572</td>\n",
       "      <td>NaN</td>\n",
       "      <td>NaN</td>\n",
       "      <td>NaN</td>\n",
       "      <td>...</td>\n",
       "      <td>NaN</td>\n",
       "      <td>211.096358</td>\n",
       "      <td>8.106</td>\n",
       "      <td>False</td>\n",
       "      <td>A</td>\n",
       "      <td>151315</td>\n",
       "      <td>False</td>\n",
       "      <td>False</td>\n",
       "      <td>False</td>\n",
       "      <td>False</td>\n",
       "    </tr>\n",
       "    <tr>\n",
       "      <th>4</th>\n",
       "      <td>1</td>\n",
       "      <td>5</td>\n",
       "      <td>2010-02-05</td>\n",
       "      <td>32229.38</td>\n",
       "      <td>False</td>\n",
       "      <td>42.31</td>\n",
       "      <td>2.572</td>\n",
       "      <td>NaN</td>\n",
       "      <td>NaN</td>\n",
       "      <td>NaN</td>\n",
       "      <td>...</td>\n",
       "      <td>NaN</td>\n",
       "      <td>211.096358</td>\n",
       "      <td>8.106</td>\n",
       "      <td>False</td>\n",
       "      <td>A</td>\n",
       "      <td>151315</td>\n",
       "      <td>False</td>\n",
       "      <td>False</td>\n",
       "      <td>False</td>\n",
       "      <td>False</td>\n",
       "    </tr>\n",
       "  </tbody>\n",
       "</table>\n",
       "<p>5 rows × 21 columns</p>\n",
       "</div>"
      ],
      "text/plain": [
       "   Store  Dept        Date  Weekly_Sales  IsHoliday_x  Temperature  \\\n",
       "0      1     1  2010-02-05      24924.50        False        42.31   \n",
       "1      1     2  2010-02-05      50605.27        False        42.31   \n",
       "2      1     3  2010-02-05      13740.12        False        42.31   \n",
       "3      1     4  2010-02-05      39954.04        False        42.31   \n",
       "4      1     5  2010-02-05      32229.38        False        42.31   \n",
       "\n",
       "   Fuel_Price  MarkDown1  MarkDown2  MarkDown3  ...  MarkDown5         CPI  \\\n",
       "0       2.572        NaN        NaN        NaN  ...        NaN  211.096358   \n",
       "1       2.572        NaN        NaN        NaN  ...        NaN  211.096358   \n",
       "2       2.572        NaN        NaN        NaN  ...        NaN  211.096358   \n",
       "3       2.572        NaN        NaN        NaN  ...        NaN  211.096358   \n",
       "4       2.572        NaN        NaN        NaN  ...        NaN  211.096358   \n",
       "\n",
       "   Unemployment  IsHoliday_y  Type    Size  Super_Bowl Labor_Day Thanksgiving  \\\n",
       "0         8.106        False     A  151315       False     False        False   \n",
       "1         8.106        False     A  151315       False     False        False   \n",
       "2         8.106        False     A  151315       False     False        False   \n",
       "3         8.106        False     A  151315       False     False        False   \n",
       "4         8.106        False     A  151315       False     False        False   \n",
       "\n",
       "  Christmas  \n",
       "0     False  \n",
       "1     False  \n",
       "2     False  \n",
       "3     False  \n",
       "4     False  \n",
       "\n",
       "[5 rows x 21 columns]"
      ]
     },
     "execution_count": 240,
     "metadata": {},
     "output_type": "execute_result"
    }
   ],
   "source": [
    "df_merge.head()"
   ]
  },
  {
   "cell_type": "code",
   "execution_count": 241,
   "metadata": {},
   "outputs": [
    {
     "data": {
      "text/plain": [
       "29661"
      ]
     },
     "metadata": {},
     "output_type": "display_data"
    }
   ],
   "source": [
    "count_true_values = len(df_merge.loc[df_merge['IsHoliday_x'] == True])\n",
    "display(count_true_values)"
   ]
  },
  {
   "cell_type": "code",
   "execution_count": 242,
   "metadata": {},
   "outputs": [
    {
     "data": {
      "text/plain": [
       "391909"
      ]
     },
     "metadata": {},
     "output_type": "display_data"
    }
   ],
   "source": [
    "count_false_values = len(df_merge.loc[df_merge['IsHoliday_x'] == False])\n",
    "display(count_false_values)"
   ]
  },
  {
   "cell_type": "code",
   "execution_count": 243,
   "metadata": {},
   "outputs": [
    {
     "data": {
      "text/plain": [
       "<Axes: xlabel='Super_Bowl', ylabel='Weekly_Sales'>"
      ]
     },
     "execution_count": 243,
     "metadata": {},
     "output_type": "execute_result"
    },
    {
     "data": {
      "image/png": "[encoded data removed]",
      "text/plain": [
       "<Figure size 640x480 with 1 Axes>"
      ]
     },
     "metadata": {},
     "output_type": "display_data"
    }
   ],
   "source": [
    "sns.barplot(data=df_merge, x='Super_Bowl', y='Weekly_Sales')"
   ]
  },
  {
   "cell_type": "code",
   "execution_count": 244,
   "metadata": {},
   "outputs": [
    {
     "data": {
      "text/plain": [
       "<Axes: xlabel='Labor_Day', ylabel='Weekly_Sales'>"
      ]
     },
     "execution_count": 244,
     "metadata": {},
     "output_type": "execute_result"
    },
    {
     "data": {
      "image/png": "[encoded data removed]",
      "text/plain": [
       "<Figure size 640x480 with 1 Axes>"
      ]
     },
     "metadata": {},
     "output_type": "display_data"
    }
   ],
   "source": [
    "sns.barplot(data=df_merge, x='Labor_Day', y='Weekly_Sales')"
   ]
  },
  {
   "cell_type": "code",
   "execution_count": 245,
   "metadata": {},
   "outputs": [
    {
     "data": {
      "text/plain": [
       "<Axes: xlabel='Thanksgiving', ylabel='Weekly_Sales'>"
      ]
     },
     "execution_count": 245,
     "metadata": {},
     "output_type": "execute_result"
    },
    {
     "data": {
      "image/png": "[encoded data removed]",
      "text/plain": [
       "<Figure size 640x480 with 1 Axes>"
      ]
     },
     "metadata": {},
     "output_type": "display_data"
    }
   ],
   "source": [
    "sns.barplot(data=df_merge, x='Thanksgiving', y='Weekly_Sales')"
   ]
  },
  {
   "cell_type": "code",
   "execution_count": 246,
   "metadata": {},
   "outputs": [
    {
     "data": {
      "text/plain": [
       "<Axes: xlabel='Christmas', ylabel='Weekly_Sales'>"
      ]
     },
     "execution_count": 246,
     "metadata": {},
     "output_type": "execute_result"
    },
    {
     "data": {
      "image/png": "[encoded data removed]",
      "text/plain": [
       "<Figure size 640x480 with 1 Axes>"
      ]
     },
     "metadata": {},
     "output_type": "display_data"
    }
   ],
   "source": [
    "sns.barplot(data=df_merge, x='Christmas', y='Weekly_Sales')"
   ]
  },
  {
   "cell_type": "markdown",
   "metadata": {},
   "source": [
    "## Examining the effect of **Store Type** and **Holiday** on weekly sales"
   ]
  },
  {
   "cell_type": "markdown",
   "metadata": {},
   "source": [
    "### Super Bowl"
   ]
  },
  {
   "cell_type": "code",
   "execution_count": 247,
   "metadata": {},
   "outputs": [
    {
     "data": {
      "text/plain": [
       "Type  Super_Bowl\n",
       "A     False         20088.683671\n",
       "      True          20603.690832\n",
       "B     False         12233.518469\n",
       "      True          12401.718198\n",
       "C     False          9506.055492\n",
       "      True          10156.204711\n",
       "Name: Weekly_Sales, dtype: float64"
      ]
     },
     "execution_count": 247,
     "metadata": {},
     "output_type": "execute_result"
    }
   ],
   "source": [
    "df_merge.groupby(['Type', 'Super_Bowl']) ['Weekly_Sales'].mean()"
   ]
  },
  {
   "cell_type": "code",
   "execution_count": 151,
   "metadata": {},
   "outputs": [],
   "source": [
    "HT1 = df_merge.groupby(['Type', 'Super_Bowl']) ['Weekly_Sales'].mean()"
   ]
  },
  {
   "cell_type": "code",
   "execution_count": 150,
   "metadata": {},
   "outputs": [],
   "source": [
    "df_plot_Super_Bowl = HT1.reset_index()"
   ]
  },
  {
   "cell_type": "code",
   "execution_count": 153,
   "metadata": {},
   "outputs": [
    {
     "data": {
      "image/png": "[encoded data removed]",
      "text/plain": [
       "<Figure size 800x600 with 1 Axes>"
      ]
     },
     "metadata": {},
     "output_type": "display_data"
    }
   ],
   "source": [
    "plt.figure(figsize=(8, 6))\n",
    "plt.bar(range(len(df_plot_Super_Bowl)), df_plot_Super_Bowl['Weekly_Sales'], tick_label=df_plot_Super_Bowl['Type'] + ' - Super_Bowl ' + df_plot_Super_Bowl['Super_Bowl'].astype(str))\n",
    "plt.xlabel('Type - Super_Bowl')\n",
    "plt.ylabel('Mean Weekly Sales')\n",
    "plt.title('Mean Weekly Sales by Type and Super_Bowl')\n",
    "plt.xticks(rotation=45, ha='right')\n",
    "plt.show()"
   ]
  },
  {
   "cell_type": "markdown",
   "metadata": {},
   "source": [
    "### Labor Day"
   ]
  },
  {
   "cell_type": "code",
   "execution_count": 169,
   "metadata": {},
   "outputs": [
    {
     "data": {
      "text/plain": [
       "Type  Labor_Day\n",
       "A     False        20102.291095\n",
       "      True         19973.219881\n",
       "B     False        12241.858749\n",
       "      True         12013.482757\n",
       "C     False         9512.019024\n",
       "      True          9871.225746\n",
       "Name: Weekly_Sales, dtype: float64"
      ]
     },
     "execution_count": 169,
     "metadata": {},
     "output_type": "execute_result"
    }
   ],
   "source": [
    "df_merge.groupby(['Type', 'Labor_Day'])['Weekly_Sales'].mean()"
   ]
  },
  {
   "cell_type": "code",
   "execution_count": 170,
   "metadata": {},
   "outputs": [],
   "source": [
    "HT2 = df_merge.groupby(['Type', 'Labor_Day'])['Weekly_Sales'].mean()"
   ]
  },
  {
   "cell_type": "code",
   "execution_count": 171,
   "metadata": {},
   "outputs": [],
   "source": [
    "df_plot_Labor_Day = HT2.reset_index()"
   ]
  },
  {
   "cell_type": "code",
   "execution_count": 172,
   "metadata": {},
   "outputs": [
    {
     "data": {
      "image/png": "[encoded data removed]",
      "text/plain": [
       "<Figure size 800x600 with 1 Axes>"
      ]
     },
     "metadata": {},
     "output_type": "display_data"
    }
   ],
   "source": [
    "plt.figure(figsize=(8,6))\n",
    "plt.bar(range(len(df_plot_Labor_Day)), df_plot_Labor_Day['Weekly_Sales'], tick_label=df_plot_Labor_Day['Type'] + ' - Labor_Day ' + df_plot_Labor_Day['Labor_Day'].astype(str))\n",
    "plt.xlabel = ('Type - Laboar_Day')\n",
    "plt.ylabel = ('Mean Weekly Sales')\n",
    "plt.title = ('Mean Weekly Sales by Type and Laboar_Day')\n",
    "plt.xticks(rotation=45, ha='right')\n",
    "plt.show()"
   ]
  },
  {
   "cell_type": "markdown",
   "metadata": {},
   "source": [
    "### Thanksgiving"
   ]
  },
  {
   "cell_type": "code",
   "execution_count": 248,
   "metadata": {},
   "outputs": [
    {
     "data": {
      "text/plain": [
       "Type  Thanksgiving\n",
       "A     False           19995.309014\n",
       "      True            27370.728296\n",
       "B     False           12144.563438\n",
       "      True            18661.296519\n",
       "C     False            9517.272388\n",
       "      True             9679.900152\n",
       "Name: Weekly_Sales, dtype: float64"
      ]
     },
     "execution_count": 248,
     "metadata": {},
     "output_type": "execute_result"
    }
   ],
   "source": [
    "df_merge.groupby(['Type', 'Thanksgiving'])['Weekly_Sales'].mean()"
   ]
  },
  {
   "cell_type": "code",
   "execution_count": 174,
   "metadata": {},
   "outputs": [],
   "source": [
    "HT3 = df_merge.groupby(['Type', 'Thanksgiving'])['Weekly_Sales'].mean()"
   ]
  },
  {
   "cell_type": "code",
   "execution_count": 184,
   "metadata": {},
   "outputs": [],
   "source": [
    "df_plot_Thanksgiving = HT3.reset_index()"
   ]
  },
  {
   "cell_type": "code",
   "execution_count": 186,
   "metadata": {},
   "outputs": [
    {
     "data": {
      "image/png": "[encoded data removed]",
      "text/plain": [
       "<Figure size 800x600 with 1 Axes>"
      ]
     },
     "metadata": {},
     "output_type": "display_data"
    }
   ],
   "source": [
    "plt.figure(figsize=(8,6))\n",
    "plt.bar(range(len(df_plot_Thanksgiving)), df_plot_Thanksgiving['Weekly_Sales'], tick_label=df_plot_Thanksgiving['Type'] + ' - Labor_Day ' + df_plot_Thanksgiving['Thanksgiving'].astype(str))\n",
    "plt.xlabel = ('Type - Thanksgiving')\n",
    "plt.ylabel = ('Mean Weekly Sales')\n",
    "plt.title = ('Mean Weekly Sales by Type and Thanksgiving')\n",
    "plt.xticks(rotation=45, ha='right')\n",
    "plt.show()"
   ]
  },
  {
   "cell_type": "markdown",
   "metadata": {},
   "source": [
    "### Christmas"
   ]
  },
  {
   "cell_type": "code",
   "execution_count": 187,
   "metadata": {},
   "outputs": [
    {
     "data": {
      "text/plain": [
       "Type  Christmas\n",
       "A     False        20126.297990\n",
       "      True         18231.031306\n",
       "B     False        12249.152357\n",
       "      True         11394.051524\n",
       "C     False         9541.691864\n",
       "      True          7963.228980\n",
       "Name: Weekly_Sales, dtype: float64"
      ]
     },
     "execution_count": 187,
     "metadata": {},
     "output_type": "execute_result"
    }
   ],
   "source": [
    "df_merge.groupby(['Type', 'Christmas'])['Weekly_Sales'].mean()"
   ]
  },
  {
   "cell_type": "code",
   "execution_count": 191,
   "metadata": {},
   "outputs": [],
   "source": [
    "HT4 = df_merge.groupby(['Type', 'Christmas'])['Weekly_Sales'].mean()"
   ]
  },
  {
   "cell_type": "code",
   "execution_count": 193,
   "metadata": {},
   "outputs": [],
   "source": [
    "df_plot_Christmas = HT4.reset_index()"
   ]
  },
  {
   "cell_type": "code",
   "execution_count": 195,
   "metadata": {},
   "outputs": [
    {
     "data": {
      "image/png": "[encoded data removed]",
      "text/plain": [
       "<Figure size 800x600 with 1 Axes>"
      ]
     },
     "metadata": {},
     "output_type": "display_data"
    }
   ],
   "source": [
    "plt.figure(figsize=(8,6))\n",
    "plt.bar(range(len(df_plot_Christmas)), df_plot_Christmas['Weekly_Sales'], tick_label=df_plot_Christmas['Type'] + ' - Christmas ' + df_plot_Christmas['Christmas'].astype(str))\n",
    "plt.xlabel = ('Type - Christmas')\n",
    "plt.ylabel = ('Mean Weekly Sales')\n",
    "plt.title = ('Mean Weekly Sales by Type and Christmas')\n",
    "plt.xticks(rotation=45, ha='right')\n",
    "plt.show()"
   ]
  },
  {
   "cell_type": "markdown",
   "metadata": {},
   "source": [
    "### Understanding the share of each type of store from the total"
   ]
  },
  {
   "cell_type": "code",
   "execution_count": 207,
   "metadata": {},
   "outputs": [
    {
     "data": {
      "text/plain": [
       "421570"
      ]
     },
     "execution_count": 207,
     "metadata": {},
     "output_type": "execute_result"
    }
   ],
   "source": [
    "# Total row of data\n",
    "len(df_merge)"
   ]
  },
  {
   "cell_type": "code",
   "execution_count": 231,
   "metadata": {},
   "outputs": [
    {
     "data": {
      "text/plain": [
       "array(['A', 'B', 'C'], dtype=object)"
      ]
     },
     "execution_count": 231,
     "metadata": {},
     "output_type": "execute_result"
    }
   ],
   "source": [
    "df_merge['Type'].unique()"
   ]
  },
  {
   "cell_type": "code",
   "execution_count": 218,
   "metadata": {},
   "outputs": [
    {
     "data": {
      "text/plain": [
       "Type\n",
       "True     215478\n",
       "False    206092\n",
       "Name: count, dtype: int64"
      ]
     },
     "execution_count": 218,
     "metadata": {},
     "output_type": "execute_result"
    }
   ],
   "source": [
    "# Number of store with type A\n",
    "(df_merge['Type'] == 'A').value_counts()"
   ]
  },
  {
   "cell_type": "code",
   "execution_count": 223,
   "metadata": {},
   "outputs": [
    {
     "data": {
      "text/plain": [
       "Type\n",
       "True     51.11322\n",
       "False    48.88678\n",
       "Name: count, dtype: float64"
      ]
     },
     "execution_count": 223,
     "metadata": {},
     "output_type": "execute_result"
    }
   ],
   "source": [
    "#Percentage of store with type A\n",
    "(((df_merge['Type'] == 'A').value_counts()) / (len(df_merge))) * 100"
   ]
  },
  {
   "cell_type": "code",
   "execution_count": 224,
   "metadata": {},
   "outputs": [
    {
     "data": {
      "text/plain": [
       "Type\n",
       "False    258075\n",
       "True     163495\n",
       "Name: count, dtype: int64"
      ]
     },
     "execution_count": 224,
     "metadata": {},
     "output_type": "execute_result"
    }
   ],
   "source": [
    "# Number of store with type B\n",
    "(df_merge['Type'] == 'B').value_counts()"
   ]
  },
  {
   "cell_type": "code",
   "execution_count": 225,
   "metadata": {},
   "outputs": [
    {
     "data": {
      "text/plain": [
       "Type\n",
       "False    61.217591\n",
       "True     38.782409\n",
       "Name: count, dtype: float64"
      ]
     },
     "execution_count": 225,
     "metadata": {},
     "output_type": "execute_result"
    }
   ],
   "source": [
    "#Percentage of store with type B\n",
    "(((df_merge['Type'] == 'B').value_counts()) / (len(df_merge))) * 100"
   ]
  },
  {
   "cell_type": "code",
   "execution_count": 212,
   "metadata": {},
   "outputs": [
    {
     "data": {
      "text/plain": [
       "Type\n",
       "False    378973\n",
       "True      42597\n",
       "Name: count, dtype: int64"
      ]
     },
     "execution_count": 212,
     "metadata": {},
     "output_type": "execute_result"
    }
   ],
   "source": [
    "# Number of store with type C\n",
    "(df_merge['Type'] == 'C').value_counts()"
   ]
  },
  {
   "cell_type": "code",
   "execution_count": 222,
   "metadata": {},
   "outputs": [
    {
     "data": {
      "text/plain": [
       "Type\n",
       "False    89.895628\n",
       "True     10.104372\n",
       "Name: count, dtype: float64"
      ]
     },
     "execution_count": 222,
     "metadata": {},
     "output_type": "execute_result"
    }
   ],
   "source": [
    "#Percentage of store with type C\n",
    "(((df_merge['Type'] == 'C').value_counts()) / (len(df_merge))) * 100"
   ]
  },
  {
   "cell_type": "code",
   "execution_count": 230,
   "metadata": {},
   "outputs": [
    {
     "data": {
      "image/png": "[encoded data removed]",
      "text/plain": [
       "<Figure size 640x480 with 1 Axes>"
      ]
     },
     "metadata": {},
     "output_type": "display_data"
    }
   ],
   "source": [
    "percentage_tpye = [51.11322, 38.782409, 10.104372]\n",
    "label_type = 'Type A','Type B', 'Type C'\n",
    "plt.pie(percentage_tpye, labels= label_type, autopct='%1.1f%%')\n",
    "plt.show()"
   ]
  },
  {
   "cell_type": "markdown",
   "metadata": {},
   "source": [
    "### understanding the weekly sales based on sotre type and holiday"
   ]
  },
  {
   "cell_type": "code",
   "execution_count": 269,
   "metadata": {},
   "outputs": [
    {
     "data": {
      "image/png": "[encoded data removed]",
      "text/plain": [
       "<Figure size 1600x800 with 1 Axes>"
      ]
     },
     "metadata": {},
     "output_type": "display_data"
    }
   ],
   "source": [
    "labels = ['Thanksgiving', 'Super_Bowl', 'Labor_Day', 'Christmas']\n",
    "A_means = [27370.728296, 20603.690832, 19973.219881, 18231.031306]\n",
    "B_means = [18661.296519, 12401.718198, 12013.482757, 11394.051524]\n",
    "C_means = [9679.900152, 10156.204711, 9871.225746, 7963.228980]\n",
    "\n",
    "x = np.arange(len(labels))\n",
    "width = 0.25\n",
    "fig, ax = plt.subplots(figsize=(16, 8))\n",
    "rects1 = plt.bar(x-width, A_means, width, label='Type_A')\n",
    "rects2 = plt.bar(x, B_means, width, label='Type_B')\n",
    "rects3 = plt.bar(x+width, C_means, width, label='Type_C')\n",
    "\n",
    "ax.set_ylabel('Weekly Avg Sales')\n",
    "ax.set_xticks(x)\n",
    "ax.set_xticklabels(labels)\n",
    "ax.legend()\n",
    "\n",
    "plt.show()"
   ]
  },
  {
   "cell_type": "markdown",
   "metadata": {},
   "source": [
    "### Top 5 weeks based on sale"
   ]
  },
  {
   "cell_type": "code",
   "execution_count": 277,
   "metadata": {},
   "outputs": [
    {
     "data": {
      "text/html": [
       "<div>\n",
       "<style scoped>\n",
       "    .dataframe tbody tr th:only-of-type {\n",
       "        vertical-align: middle;\n",
       "    }\n",
       "\n",
       "    .dataframe tbody tr th {\n",
       "        vertical-align: top;\n",
       "    }\n",
       "\n",
       "    .dataframe thead th {\n",
       "        text-align: right;\n",
       "    }\n",
       "</style>\n",
       "<table border=\"1\" class=\"dataframe\">\n",
       "  <thead>\n",
       "    <tr style=\"text-align: right;\">\n",
       "      <th></th>\n",
       "      <th>Store</th>\n",
       "      <th>Dept</th>\n",
       "      <th>Date</th>\n",
       "      <th>Weekly_Sales</th>\n",
       "      <th>IsHoliday_x</th>\n",
       "      <th>Temperature</th>\n",
       "      <th>Fuel_Price</th>\n",
       "      <th>MarkDown1</th>\n",
       "      <th>MarkDown2</th>\n",
       "      <th>MarkDown3</th>\n",
       "      <th>...</th>\n",
       "      <th>MarkDown5</th>\n",
       "      <th>CPI</th>\n",
       "      <th>Unemployment</th>\n",
       "      <th>IsHoliday_y</th>\n",
       "      <th>Type</th>\n",
       "      <th>Size</th>\n",
       "      <th>Super_Bowl</th>\n",
       "      <th>Labor_Day</th>\n",
       "      <th>Thanksgiving</th>\n",
       "      <th>Christmas</th>\n",
       "    </tr>\n",
       "  </thead>\n",
       "  <tbody>\n",
       "    <tr>\n",
       "      <th>90645</th>\n",
       "      <td>10</td>\n",
       "      <td>72</td>\n",
       "      <td>2010-11-26</td>\n",
       "      <td>693099.36</td>\n",
       "      <td>True</td>\n",
       "      <td>55.33</td>\n",
       "      <td>3.162</td>\n",
       "      <td>NaN</td>\n",
       "      <td>NaN</td>\n",
       "      <td>NaN</td>\n",
       "      <td>...</td>\n",
       "      <td>NaN</td>\n",
       "      <td>126.669267</td>\n",
       "      <td>9.003</td>\n",
       "      <td>True</td>\n",
       "      <td>B</td>\n",
       "      <td>126512</td>\n",
       "      <td>False</td>\n",
       "      <td>False</td>\n",
       "      <td>True</td>\n",
       "      <td>False</td>\n",
       "    </tr>\n",
       "    <tr>\n",
       "      <th>337053</th>\n",
       "      <td>35</td>\n",
       "      <td>72</td>\n",
       "      <td>2011-11-25</td>\n",
       "      <td>649770.18</td>\n",
       "      <td>True</td>\n",
       "      <td>47.88</td>\n",
       "      <td>3.492</td>\n",
       "      <td>1333.24</td>\n",
       "      <td>NaN</td>\n",
       "      <td>58563.24</td>\n",
       "      <td>...</td>\n",
       "      <td>6386.86</td>\n",
       "      <td>140.421786</td>\n",
       "      <td>8.745</td>\n",
       "      <td>True</td>\n",
       "      <td>B</td>\n",
       "      <td>103681</td>\n",
       "      <td>False</td>\n",
       "      <td>False</td>\n",
       "      <td>True</td>\n",
       "      <td>False</td>\n",
       "    </tr>\n",
       "    <tr>\n",
       "      <th>94393</th>\n",
       "      <td>10</td>\n",
       "      <td>72</td>\n",
       "      <td>2011-11-25</td>\n",
       "      <td>630999.19</td>\n",
       "      <td>True</td>\n",
       "      <td>60.68</td>\n",
       "      <td>3.760</td>\n",
       "      <td>174.72</td>\n",
       "      <td>329.0</td>\n",
       "      <td>141630.61</td>\n",
       "      <td>...</td>\n",
       "      <td>1009.98</td>\n",
       "      <td>129.836400</td>\n",
       "      <td>7.874</td>\n",
       "      <td>True</td>\n",
       "      <td>B</td>\n",
       "      <td>126512</td>\n",
       "      <td>False</td>\n",
       "      <td>False</td>\n",
       "      <td>True</td>\n",
       "      <td>False</td>\n",
       "    </tr>\n",
       "    <tr>\n",
       "      <th>333594</th>\n",
       "      <td>35</td>\n",
       "      <td>72</td>\n",
       "      <td>2010-11-26</td>\n",
       "      <td>627962.93</td>\n",
       "      <td>True</td>\n",
       "      <td>46.67</td>\n",
       "      <td>3.039</td>\n",
       "      <td>NaN</td>\n",
       "      <td>NaN</td>\n",
       "      <td>NaN</td>\n",
       "      <td>...</td>\n",
       "      <td>NaN</td>\n",
       "      <td>136.689571</td>\n",
       "      <td>8.763</td>\n",
       "      <td>True</td>\n",
       "      <td>B</td>\n",
       "      <td>103681</td>\n",
       "      <td>False</td>\n",
       "      <td>False</td>\n",
       "      <td>True</td>\n",
       "      <td>False</td>\n",
       "    </tr>\n",
       "    <tr>\n",
       "      <th>131088</th>\n",
       "      <td>14</td>\n",
       "      <td>72</td>\n",
       "      <td>2010-11-26</td>\n",
       "      <td>474330.10</td>\n",
       "      <td>True</td>\n",
       "      <td>46.15</td>\n",
       "      <td>3.039</td>\n",
       "      <td>NaN</td>\n",
       "      <td>NaN</td>\n",
       "      <td>NaN</td>\n",
       "      <td>...</td>\n",
       "      <td>NaN</td>\n",
       "      <td>182.783277</td>\n",
       "      <td>8.724</td>\n",
       "      <td>True</td>\n",
       "      <td>A</td>\n",
       "      <td>200898</td>\n",
       "      <td>False</td>\n",
       "      <td>False</td>\n",
       "      <td>True</td>\n",
       "      <td>False</td>\n",
       "    </tr>\n",
       "  </tbody>\n",
       "</table>\n",
       "<p>5 rows × 21 columns</p>\n",
       "</div>"
      ],
      "text/plain": [
       "        Store  Dept        Date  Weekly_Sales  IsHoliday_x  Temperature  \\\n",
       "90645      10    72  2010-11-26     693099.36         True        55.33   \n",
       "337053     35    72  2011-11-25     649770.18         True        47.88   \n",
       "94393      10    72  2011-11-25     630999.19         True        60.68   \n",
       "333594     35    72  2010-11-26     627962.93         True        46.67   \n",
       "131088     14    72  2010-11-26     474330.10         True        46.15   \n",
       "\n",
       "        Fuel_Price  MarkDown1  MarkDown2  MarkDown3  ...  MarkDown5  \\\n",
       "90645        3.162        NaN        NaN        NaN  ...        NaN   \n",
       "337053       3.492    1333.24        NaN   58563.24  ...    6386.86   \n",
       "94393        3.760     174.72      329.0  141630.61  ...    1009.98   \n",
       "333594       3.039        NaN        NaN        NaN  ...        NaN   \n",
       "131088       3.039        NaN        NaN        NaN  ...        NaN   \n",
       "\n",
       "               CPI  Unemployment  IsHoliday_y  Type    Size  Super_Bowl  \\\n",
       "90645   126.669267         9.003         True     B  126512       False   \n",
       "337053  140.421786         8.745         True     B  103681       False   \n",
       "94393   129.836400         7.874         True     B  126512       False   \n",
       "333594  136.689571         8.763         True     B  103681       False   \n",
       "131088  182.783277         8.724         True     A  200898       False   \n",
       "\n",
       "       Labor_Day Thanksgiving Christmas  \n",
       "90645      False         True     False  \n",
       "337053     False         True     False  \n",
       "94393      False         True     False  \n",
       "333594     False         True     False  \n",
       "131088     False         True     False  \n",
       "\n",
       "[5 rows x 21 columns]"
      ]
     },
     "execution_count": 277,
     "metadata": {},
     "output_type": "execute_result"
    }
   ],
   "source": [
    "df_merge.sort_values(by='Weekly_Sales', ascending=False).head()"
   ]
  },
  {
   "cell_type": "markdown",
   "metadata": {},
   "source": [
    "### We want to understand about relationship between size and type"
   ]
  },
  {
   "cell_type": "code",
   "execution_count": 279,
   "metadata": {},
   "outputs": [
    {
     "data": {
      "text/html": [
       "<div>\n",
       "<style scoped>\n",
       "    .dataframe tbody tr th:only-of-type {\n",
       "        vertical-align: middle;\n",
       "    }\n",
       "\n",
       "    .dataframe tbody tr th {\n",
       "        vertical-align: top;\n",
       "    }\n",
       "\n",
       "    .dataframe thead th {\n",
       "        text-align: right;\n",
       "    }\n",
       "</style>\n",
       "<table border=\"1\" class=\"dataframe\">\n",
       "  <thead>\n",
       "    <tr style=\"text-align: right;\">\n",
       "      <th></th>\n",
       "      <th>Store</th>\n",
       "      <th>Type</th>\n",
       "      <th>Size</th>\n",
       "    </tr>\n",
       "  </thead>\n",
       "  <tbody>\n",
       "    <tr>\n",
       "      <th>0</th>\n",
       "      <td>1</td>\n",
       "      <td>A</td>\n",
       "      <td>151315</td>\n",
       "    </tr>\n",
       "    <tr>\n",
       "      <th>1</th>\n",
       "      <td>2</td>\n",
       "      <td>A</td>\n",
       "      <td>202307</td>\n",
       "    </tr>\n",
       "    <tr>\n",
       "      <th>2</th>\n",
       "      <td>3</td>\n",
       "      <td>B</td>\n",
       "      <td>37392</td>\n",
       "    </tr>\n",
       "    <tr>\n",
       "      <th>3</th>\n",
       "      <td>4</td>\n",
       "      <td>A</td>\n",
       "      <td>205863</td>\n",
       "    </tr>\n",
       "    <tr>\n",
       "      <th>4</th>\n",
       "      <td>5</td>\n",
       "      <td>B</td>\n",
       "      <td>34875</td>\n",
       "    </tr>\n",
       "  </tbody>\n",
       "</table>\n",
       "</div>"
      ],
      "text/plain": [
       "   Store Type    Size\n",
       "0      1    A  151315\n",
       "1      2    A  202307\n",
       "2      3    B   37392\n",
       "3      4    A  205863\n",
       "4      5    B   34875"
      ]
     },
     "execution_count": 279,
     "metadata": {},
     "output_type": "execute_result"
    }
   ],
   "source": [
    "df_store.head()"
   ]
  },
  {
   "cell_type": "code",
   "execution_count": 291,
   "metadata": {},
   "outputs": [
    {
     "data": {
      "text/html": [
       "<div>\n",
       "<style scoped>\n",
       "    .dataframe tbody tr th:only-of-type {\n",
       "        vertical-align: middle;\n",
       "    }\n",
       "\n",
       "    .dataframe tbody tr th {\n",
       "        vertical-align: top;\n",
       "    }\n",
       "\n",
       "    .dataframe thead th {\n",
       "        text-align: right;\n",
       "    }\n",
       "</style>\n",
       "<table border=\"1\" class=\"dataframe\">\n",
       "  <thead>\n",
       "    <tr style=\"text-align: right;\">\n",
       "      <th></th>\n",
       "      <th>count</th>\n",
       "      <th>mean</th>\n",
       "      <th>std</th>\n",
       "      <th>min</th>\n",
       "      <th>25%</th>\n",
       "      <th>50%</th>\n",
       "      <th>75%</th>\n",
       "      <th>max</th>\n",
       "    </tr>\n",
       "    <tr>\n",
       "      <th>Type</th>\n",
       "      <th></th>\n",
       "      <th></th>\n",
       "      <th></th>\n",
       "      <th></th>\n",
       "      <th></th>\n",
       "      <th></th>\n",
       "      <th></th>\n",
       "      <th></th>\n",
       "    </tr>\n",
       "  </thead>\n",
       "  <tbody>\n",
       "    <tr>\n",
       "      <th>A</th>\n",
       "      <td>22.0</td>\n",
       "      <td>177247.727273</td>\n",
       "      <td>49392.621098</td>\n",
       "      <td>39690.0</td>\n",
       "      <td>155840.75</td>\n",
       "      <td>202406.0</td>\n",
       "      <td>203819.0</td>\n",
       "      <td>219622.0</td>\n",
       "    </tr>\n",
       "    <tr>\n",
       "      <th>B</th>\n",
       "      <td>17.0</td>\n",
       "      <td>101190.705882</td>\n",
       "      <td>32371.137916</td>\n",
       "      <td>34875.0</td>\n",
       "      <td>93188.00</td>\n",
       "      <td>114533.0</td>\n",
       "      <td>123737.0</td>\n",
       "      <td>140167.0</td>\n",
       "    </tr>\n",
       "    <tr>\n",
       "      <th>C</th>\n",
       "      <td>6.0</td>\n",
       "      <td>40541.666667</td>\n",
       "      <td>1304.145033</td>\n",
       "      <td>39690.0</td>\n",
       "      <td>39745.00</td>\n",
       "      <td>39910.0</td>\n",
       "      <td>40774.0</td>\n",
       "      <td>42988.0</td>\n",
       "    </tr>\n",
       "  </tbody>\n",
       "</table>\n",
       "</div>"
      ],
      "text/plain": [
       "      count           mean           std      min        25%       50%  \\\n",
       "Type                                                                     \n",
       "A      22.0  177247.727273  49392.621098  39690.0  155840.75  202406.0   \n",
       "B      17.0  101190.705882  32371.137916  34875.0   93188.00  114533.0   \n",
       "C       6.0   40541.666667   1304.145033  39690.0   39745.00   39910.0   \n",
       "\n",
       "           75%       max  \n",
       "Type                      \n",
       "A     203819.0  219622.0  \n",
       "B     123737.0  140167.0  \n",
       "C      40774.0   42988.0  "
      ]
     },
     "execution_count": 291,
     "metadata": {},
     "output_type": "execute_result"
    }
   ],
   "source": [
    "df_store.groupby(by='Type').describe()['Size']"
   ]
  },
  {
   "cell_type": "code",
   "execution_count": 295,
   "metadata": {},
   "outputs": [
    {
     "data": {
      "text/plain": [
       "<Axes: xlabel='Type', ylabel='Size'>"
      ]
     },
     "execution_count": 295,
     "metadata": {},
     "output_type": "execute_result"
    },
    {
     "data": {
      "image/png": "[encoded data removed]",
      "text/plain": [
       "<Figure size 1000x800 with 1 Axes>"
      ]
     },
     "metadata": {},
     "output_type": "display_data"
    }
   ],
   "source": [
    "plt.figure(figsize=(10,8))\n",
    "sns.boxplot(data=df_store, x='Type', y='Size')"
   ]
  },
  {
   "cell_type": "markdown",
   "metadata": {},
   "source": [
    "### Investigate to find is there any corrolation between MarkDown and Weekly Sales"
   ]
  },
  {
   "cell_type": "code",
   "execution_count": 299,
   "metadata": {},
   "outputs": [
    {
     "data": {
      "text/plain": [
       "0            0.00\n",
       "1            0.00\n",
       "2            0.00\n",
       "3            0.00\n",
       "4            0.00\n",
       "           ...   \n",
       "421565    4018.91\n",
       "421566    4018.91\n",
       "421567    4018.91\n",
       "421568    4018.91\n",
       "421569    4018.91\n",
       "Name: MarkDown1, Length: 421570, dtype: float64"
      ]
     },
     "execution_count": 299,
     "metadata": {},
     "output_type": "execute_result"
    }
   ],
   "source": [
    "df_merge['MarkDown1'].fillna(0)"
   ]
  },
  {
   "cell_type": "code",
   "execution_count": 301,
   "metadata": {},
   "outputs": [
    {
     "data": {
      "text/plain": [
       "0          0.00\n",
       "1          0.00\n",
       "2          0.00\n",
       "3          0.00\n",
       "4          0.00\n",
       "          ...  \n",
       "421565    58.08\n",
       "421566    58.08\n",
       "421567    58.08\n",
       "421568    58.08\n",
       "421569    58.08\n",
       "Name: MarkDown2, Length: 421570, dtype: float64"
      ]
     },
     "execution_count": 301,
     "metadata": {},
     "output_type": "execute_result"
    }
   ],
   "source": [
    "df_merge['MarkDown2'].fillna(0)"
   ]
  },
  {
   "cell_type": "code",
   "execution_count": 303,
   "metadata": {},
   "outputs": [
    {
     "data": {
      "text/plain": [
       "0           0.0\n",
       "1           0.0\n",
       "2           0.0\n",
       "3           0.0\n",
       "4           0.0\n",
       "          ...  \n",
       "421565    100.0\n",
       "421566    100.0\n",
       "421567    100.0\n",
       "421568    100.0\n",
       "421569    100.0\n",
       "Name: MarkDown3, Length: 421570, dtype: float64"
      ]
     },
     "execution_count": 303,
     "metadata": {},
     "output_type": "execute_result"
    }
   ],
   "source": [
    "df_merge['MarkDown3'].fillna(0)"
   ]
  },
  {
   "cell_type": "code",
   "execution_count": 305,
   "metadata": {},
   "outputs": [
    {
     "data": {
      "text/plain": [
       "0           0.00\n",
       "1           0.00\n",
       "2           0.00\n",
       "3           0.00\n",
       "4           0.00\n",
       "           ...  \n",
       "421565    211.94\n",
       "421566    211.94\n",
       "421567    211.94\n",
       "421568    211.94\n",
       "421569    211.94\n",
       "Name: MarkDown4, Length: 421570, dtype: float64"
      ]
     },
     "execution_count": 305,
     "metadata": {},
     "output_type": "execute_result"
    }
   ],
   "source": [
    "df_merge['MarkDown4'].fillna(0)"
   ]
  },
  {
   "cell_type": "code",
   "execution_count": 307,
   "metadata": {},
   "outputs": [
    {
     "data": {
      "text/plain": [
       "0           0.00\n",
       "1           0.00\n",
       "2           0.00\n",
       "3           0.00\n",
       "4           0.00\n",
       "           ...  \n",
       "421565    858.33\n",
       "421566    858.33\n",
       "421567    858.33\n",
       "421568    858.33\n",
       "421569    858.33\n",
       "Name: MarkDown5, Length: 421570, dtype: float64"
      ]
     },
     "execution_count": 307,
     "metadata": {},
     "output_type": "execute_result"
    }
   ],
   "source": [
    "df_merge['MarkDown5'].fillna(0)"
   ]
  },
  {
   "cell_type": "code",
   "execution_count": 322,
   "metadata": {},
   "outputs": [
    {
     "data": {
      "text/plain": [
       "<Axes: xlabel='MarkDown1', ylabel='Weekly_Sales'>"
      ]
     },
     "execution_count": 322,
     "metadata": {},
     "output_type": "execute_result"
    },
    {
     "data": {
      "image/png": "[encoded data removed]",
      "text/plain": [
       "<Figure size 640x480 with 1 Axes>"
      ]
     },
     "metadata": {},
     "output_type": "display_data"
    }
   ],
   "source": [
    "sns.scatterplot(df_merge, x='MarkDown1', y='Weekly_Sales')"
   ]
  },
  {
   "cell_type": "code",
   "execution_count": 317,
   "metadata": {},
   "outputs": [
    {
     "data": {
      "text/plain": [
       "0.08525115648107046"
      ]
     },
     "execution_count": 317,
     "metadata": {},
     "output_type": "execute_result"
    }
   ],
   "source": [
    "df_merge['MarkDown1'].corr(df_merge['Weekly_Sales'])"
   ]
  },
  {
   "cell_type": "code",
   "execution_count": 323,
   "metadata": {},
   "outputs": [
    {
     "data": {
      "text/plain": [
       "<Axes: xlabel='MarkDown2', ylabel='Weekly_Sales'>"
      ]
     },
     "execution_count": 323,
     "metadata": {},
     "output_type": "execute_result"
    },
    {
     "data": {
      "image/png": "[encoded data removed]",
      "text/plain": [
       "<Figure size 640x480 with 1 Axes>"
      ]
     },
     "metadata": {},
     "output_type": "display_data"
    }
   ],
   "source": [
    "sns.scatterplot(df_merge, x='MarkDown2', y='Weekly_Sales')"
   ]
  },
  {
   "cell_type": "code",
   "execution_count": 318,
   "metadata": {},
   "outputs": [
    {
     "data": {
      "text/plain": [
       "0.02412961065102784"
      ]
     },
     "execution_count": 318,
     "metadata": {},
     "output_type": "execute_result"
    }
   ],
   "source": [
    "df_merge['MarkDown2'].corr(df_merge['Weekly_Sales'])"
   ]
  },
  {
   "cell_type": "code",
   "execution_count": 324,
   "metadata": {},
   "outputs": [
    {
     "data": {
      "text/plain": [
       "<Axes: xlabel='MarkDown3', ylabel='Weekly_Sales'>"
      ]
     },
     "execution_count": 324,
     "metadata": {},
     "output_type": "execute_result"
    },
    {
     "data": {
      "image/png": "[encoded data removed]",
      "text/plain": [
       "<Figure size 640x480 with 1 Axes>"
      ]
     },
     "metadata": {},
     "output_type": "display_data"
    }
   ],
   "source": [
    "sns.scatterplot(df_merge, x='MarkDown3', y='Weekly_Sales')"
   ]
  },
  {
   "cell_type": "code",
   "execution_count": 319,
   "metadata": {},
   "outputs": [
    {
     "data": {
      "text/plain": [
       "0.060384760388578596"
      ]
     },
     "execution_count": 319,
     "metadata": {},
     "output_type": "execute_result"
    }
   ],
   "source": [
    "df_merge['MarkDown3'].corr(df_merge['Weekly_Sales'])"
   ]
  },
  {
   "cell_type": "code",
   "execution_count": 325,
   "metadata": {},
   "outputs": [
    {
     "data": {
      "text/plain": [
       "<Axes: xlabel='MarkDown4', ylabel='Weekly_Sales'>"
      ]
     },
     "execution_count": 325,
     "metadata": {},
     "output_type": "execute_result"
    },
    {
     "data": {
      "image/png": "[encoded data removed]",
      "text/plain": [
       "<Figure size 640x480 with 1 Axes>"
      ]
     },
     "metadata": {},
     "output_type": "display_data"
    }
   ],
   "source": [
    "sns.scatterplot(df_merge, x='MarkDown4', y='Weekly_Sales')"
   ]
  },
  {
   "cell_type": "code",
   "execution_count": 320,
   "metadata": {},
   "outputs": [
    {
     "data": {
      "text/plain": [
       "0.045414402912654556"
      ]
     },
     "execution_count": 320,
     "metadata": {},
     "output_type": "execute_result"
    }
   ],
   "source": [
    "df_merge['MarkDown4'].corr(df_merge['Weekly_Sales'])"
   ]
  },
  {
   "cell_type": "code",
   "execution_count": 329,
   "metadata": {},
   "outputs": [
    {
     "data": {
      "text/plain": [
       "<Axes: xlabel='MarkDown5', ylabel='Weekly_Sales'>"
      ]
     },
     "execution_count": 329,
     "metadata": {},
     "output_type": "execute_result"
    },
    {
     "data": {
      "image/png": "[encoded data removed]",
      "text/plain": [
       "<Figure size 640x480 with 1 Axes>"
      ]
     },
     "metadata": {},
     "output_type": "display_data"
    }
   ],
   "source": [
    "sns.scatterplot(df_merge, x='MarkDown5', y='Weekly_Sales')"
   ]
  },
  {
   "cell_type": "code",
   "execution_count": 321,
   "metadata": {},
   "outputs": [
    {
     "data": {
      "text/plain": [
       "0.09036206126433409"
      ]
     },
     "execution_count": 321,
     "metadata": {},
     "output_type": "execute_result"
    }
   ],
   "source": [
    "df_merge['MarkDown5'].corr(df_merge['Weekly_Sales'])"
   ]
  },
  {
   "cell_type": "code",
   "execution_count": 331,
   "metadata": {},
   "outputs": [
    {
     "data": {
      "text/html": [
       "<div>\n",
       "<style scoped>\n",
       "    .dataframe tbody tr th:only-of-type {\n",
       "        vertical-align: middle;\n",
       "    }\n",
       "\n",
       "    .dataframe tbody tr th {\n",
       "        vertical-align: top;\n",
       "    }\n",
       "\n",
       "    .dataframe thead th {\n",
       "        text-align: right;\n",
       "    }\n",
       "</style>\n",
       "<table border=\"1\" class=\"dataframe\">\n",
       "  <thead>\n",
       "    <tr style=\"text-align: right;\">\n",
       "      <th></th>\n",
       "      <th>Store</th>\n",
       "      <th>Dept</th>\n",
       "      <th>Weekly_Sales</th>\n",
       "      <th>Temperature</th>\n",
       "      <th>Fuel_Price</th>\n",
       "      <th>MarkDown1</th>\n",
       "      <th>MarkDown2</th>\n",
       "      <th>MarkDown3</th>\n",
       "      <th>MarkDown4</th>\n",
       "      <th>MarkDown5</th>\n",
       "      <th>CPI</th>\n",
       "      <th>Unemployment</th>\n",
       "      <th>Size</th>\n",
       "    </tr>\n",
       "  </thead>\n",
       "  <tbody>\n",
       "    <tr>\n",
       "      <th>count</th>\n",
       "      <td>421570.000000</td>\n",
       "      <td>421570.000000</td>\n",
       "      <td>421570.000000</td>\n",
       "      <td>421570.000000</td>\n",
       "      <td>421570.000000</td>\n",
       "      <td>150681.000000</td>\n",
       "      <td>111248.000000</td>\n",
       "      <td>137091.000000</td>\n",
       "      <td>134967.000000</td>\n",
       "      <td>151432.000000</td>\n",
       "      <td>421570.000000</td>\n",
       "      <td>421570.000000</td>\n",
       "      <td>421570.000000</td>\n",
       "    </tr>\n",
       "    <tr>\n",
       "      <th>mean</th>\n",
       "      <td>22.200546</td>\n",
       "      <td>44.260317</td>\n",
       "      <td>15981.258123</td>\n",
       "      <td>60.090059</td>\n",
       "      <td>3.361027</td>\n",
       "      <td>7246.420196</td>\n",
       "      <td>3334.628621</td>\n",
       "      <td>1439.421384</td>\n",
       "      <td>3383.168256</td>\n",
       "      <td>4628.975079</td>\n",
       "      <td>171.201947</td>\n",
       "      <td>7.960289</td>\n",
       "      <td>136727.915739</td>\n",
       "    </tr>\n",
       "    <tr>\n",
       "      <th>std</th>\n",
       "      <td>12.785297</td>\n",
       "      <td>30.492054</td>\n",
       "      <td>22711.183519</td>\n",
       "      <td>18.447931</td>\n",
       "      <td>0.458515</td>\n",
       "      <td>8291.221345</td>\n",
       "      <td>9475.357325</td>\n",
       "      <td>9623.078290</td>\n",
       "      <td>6292.384031</td>\n",
       "      <td>5962.887455</td>\n",
       "      <td>39.159276</td>\n",
       "      <td>1.863296</td>\n",
       "      <td>60980.583328</td>\n",
       "    </tr>\n",
       "    <tr>\n",
       "      <th>min</th>\n",
       "      <td>1.000000</td>\n",
       "      <td>1.000000</td>\n",
       "      <td>-4988.940000</td>\n",
       "      <td>-2.060000</td>\n",
       "      <td>2.472000</td>\n",
       "      <td>0.270000</td>\n",
       "      <td>-265.760000</td>\n",
       "      <td>-29.100000</td>\n",
       "      <td>0.220000</td>\n",
       "      <td>135.160000</td>\n",
       "      <td>126.064000</td>\n",
       "      <td>3.879000</td>\n",
       "      <td>34875.000000</td>\n",
       "    </tr>\n",
       "    <tr>\n",
       "      <th>25%</th>\n",
       "      <td>11.000000</td>\n",
       "      <td>18.000000</td>\n",
       "      <td>2079.650000</td>\n",
       "      <td>46.680000</td>\n",
       "      <td>2.933000</td>\n",
       "      <td>2240.270000</td>\n",
       "      <td>41.600000</td>\n",
       "      <td>5.080000</td>\n",
       "      <td>504.220000</td>\n",
       "      <td>1878.440000</td>\n",
       "      <td>132.022667</td>\n",
       "      <td>6.891000</td>\n",
       "      <td>93638.000000</td>\n",
       "    </tr>\n",
       "    <tr>\n",
       "      <th>50%</th>\n",
       "      <td>22.000000</td>\n",
       "      <td>37.000000</td>\n",
       "      <td>7612.030000</td>\n",
       "      <td>62.090000</td>\n",
       "      <td>3.452000</td>\n",
       "      <td>5347.450000</td>\n",
       "      <td>192.000000</td>\n",
       "      <td>24.600000</td>\n",
       "      <td>1481.310000</td>\n",
       "      <td>3359.450000</td>\n",
       "      <td>182.318780</td>\n",
       "      <td>7.866000</td>\n",
       "      <td>140167.000000</td>\n",
       "    </tr>\n",
       "    <tr>\n",
       "      <th>75%</th>\n",
       "      <td>33.000000</td>\n",
       "      <td>74.000000</td>\n",
       "      <td>20205.852500</td>\n",
       "      <td>74.280000</td>\n",
       "      <td>3.738000</td>\n",
       "      <td>9210.900000</td>\n",
       "      <td>1926.940000</td>\n",
       "      <td>103.990000</td>\n",
       "      <td>3595.040000</td>\n",
       "      <td>5563.800000</td>\n",
       "      <td>212.416993</td>\n",
       "      <td>8.572000</td>\n",
       "      <td>202505.000000</td>\n",
       "    </tr>\n",
       "    <tr>\n",
       "      <th>max</th>\n",
       "      <td>45.000000</td>\n",
       "      <td>99.000000</td>\n",
       "      <td>693099.360000</td>\n",
       "      <td>100.140000</td>\n",
       "      <td>4.468000</td>\n",
       "      <td>88646.760000</td>\n",
       "      <td>104519.540000</td>\n",
       "      <td>141630.610000</td>\n",
       "      <td>67474.850000</td>\n",
       "      <td>108519.280000</td>\n",
       "      <td>227.232807</td>\n",
       "      <td>14.313000</td>\n",
       "      <td>219622.000000</td>\n",
       "    </tr>\n",
       "  </tbody>\n",
       "</table>\n",
       "</div>"
      ],
      "text/plain": [
       "               Store           Dept   Weekly_Sales    Temperature  \\\n",
       "count  421570.000000  421570.000000  421570.000000  421570.000000   \n",
       "mean       22.200546      44.260317   15981.258123      60.090059   \n",
       "std        12.785297      30.492054   22711.183519      18.447931   \n",
       "min         1.000000       1.000000   -4988.940000      -2.060000   \n",
       "25%        11.000000      18.000000    2079.650000      46.680000   \n",
       "50%        22.000000      37.000000    7612.030000      62.090000   \n",
       "75%        33.000000      74.000000   20205.852500      74.280000   \n",
       "max        45.000000      99.000000  693099.360000     100.140000   \n",
       "\n",
       "          Fuel_Price      MarkDown1      MarkDown2      MarkDown3  \\\n",
       "count  421570.000000  150681.000000  111248.000000  137091.000000   \n",
       "mean        3.361027    7246.420196    3334.628621    1439.421384   \n",
       "std         0.458515    8291.221345    9475.357325    9623.078290   \n",
       "min         2.472000       0.270000    -265.760000     -29.100000   \n",
       "25%         2.933000    2240.270000      41.600000       5.080000   \n",
       "50%         3.452000    5347.450000     192.000000      24.600000   \n",
       "75%         3.738000    9210.900000    1926.940000     103.990000   \n",
       "max         4.468000   88646.760000  104519.540000  141630.610000   \n",
       "\n",
       "           MarkDown4      MarkDown5            CPI   Unemployment  \\\n",
       "count  134967.000000  151432.000000  421570.000000  421570.000000   \n",
       "mean     3383.168256    4628.975079     171.201947       7.960289   \n",
       "std      6292.384031    5962.887455      39.159276       1.863296   \n",
       "min         0.220000     135.160000     126.064000       3.879000   \n",
       "25%       504.220000    1878.440000     132.022667       6.891000   \n",
       "50%      1481.310000    3359.450000     182.318780       7.866000   \n",
       "75%      3595.040000    5563.800000     212.416993       8.572000   \n",
       "max     67474.850000  108519.280000     227.232807      14.313000   \n",
       "\n",
       "                Size  \n",
       "count  421570.000000  \n",
       "mean   136727.915739  \n",
       "std     60980.583328  \n",
       "min     34875.000000  \n",
       "25%     93638.000000  \n",
       "50%    140167.000000  \n",
       "75%    202505.000000  \n",
       "max    219622.000000  "
      ]
     },
     "execution_count": 331,
     "metadata": {},
     "output_type": "execute_result"
    }
   ],
   "source": [
    "df_merge.describe()"
   ]
  },
  {
   "cell_type": "markdown",
   "metadata": {},
   "source": [
    "### Relationship between department and weekly sales"
   ]
  },
  {
   "cell_type": "code",
   "execution_count": 351,
   "metadata": {},
   "outputs": [
    {
     "data": {
      "image/png": "[encoded data removed]",
      "text/plain": [
       "<Figure size 640x480 with 1 Axes>"
      ]
     },
     "metadata": {},
     "output_type": "display_data"
    }
   ],
   "source": [
    "sns.scatterplot(data=df_merge, x='Dept', y='Weekly_Sales')\n",
    "plt.title='Weekly Sales by Department'\n",
    "plt.xlabel='Departments'\n",
    "plt.ylabel='Weekly Sales'"
   ]
  },
  {
   "cell_type": "code",
   "execution_count": 360,
   "metadata": {},
   "outputs": [
    {
     "data": {
      "text/plain": [
       "Dept\n",
       "92    75204.870531\n",
       "95    69824.423080\n",
       "38    61090.619568\n",
       "72    50566.515417\n",
       "65    45441.706224\n",
       "          ...     \n",
       "51       21.931729\n",
       "39       11.123750\n",
       "78        7.296638\n",
       "43        1.193333\n",
       "47       -7.682554\n",
       "Name: Weekly_Sales, Length: 81, dtype: float64"
      ]
     },
     "execution_count": 360,
     "metadata": {},
     "output_type": "execute_result"
    }
   ],
   "source": [
    "(df_merge.groupby(by='Dept')['Weekly_Sales'].mean()).sort_values(ascending=False)"
   ]
  }
 ],
 "metadata": {
  "kernelspec": {
   "display_name": "Python 3",
   "language": "python",
   "name": "python3"
  },
  "language_info": {
   "codemirror_mode": {
    "name": "ipython",
    "version": 3
   },
   "file_extension": ".py",
   "mimetype": "text/x-python",
   "name": "python",
   "nbconvert_exporter": "python",
   "pygments_lexer": "ipython3",
   "version": "3.12.1"
  }
 },
 "nbformat": 4,
 "nbformat_minor": 2
}
